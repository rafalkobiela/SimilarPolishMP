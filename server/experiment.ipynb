{
 "cells": [
  {
   "cell_type": "code",
   "execution_count": 51,
   "metadata": {},
   "outputs": [],
   "source": [
    "from database import Database\n",
    "from file_utils import *\n",
    "from models import Member\n",
    "import pickle\n",
    "import numpy as np\n",
    "\n",
    "members = Database().members_table()\n",
    "\n",
    "with open(\"people.pkl\", 'rb') as file:\n",
    "    all = pickle.load(file)"
   ]
  },
  {
   "cell_type": "code",
   "execution_count": 52,
   "metadata": {},
   "outputs": [],
   "source": [
    "import pandas as pd"
   ]
  },
  {
   "cell_type": "code",
   "execution_count": 53,
   "metadata": {},
   "outputs": [],
   "source": [
    "a = all[0]"
   ]
  },
  {
   "cell_type": "code",
   "execution_count": 54,
   "metadata": {},
   "outputs": [
    {
     "data": {
      "text/plain": [
       "'Magdalena Błeńska'"
      ]
     },
     "execution_count": 54,
     "metadata": {},
     "output_type": "execute_result"
    }
   ],
   "source": [
    "a.name"
   ]
  },
  {
   "cell_type": "code",
   "execution_count": 55,
   "metadata": {},
   "outputs": [
    {
     "data": {
      "text/plain": [
       "array([ 0.05469247, -0.0665012 ,  0.04317334, -0.00495657, -0.04881677,\n",
       "        0.07858331, -0.03891452,  0.18982802, -0.19349381,  0.05374943,\n",
       "       -0.06896212,  0.02517324,  0.04573154,  0.02614803,  0.06619898,\n",
       "       -0.06148352,  0.1196926 , -0.07583418,  0.08648308,  0.00418662,\n",
       "        0.02058505, -0.04683811,  0.06486165,  0.03753199,  0.02355651,\n",
       "        0.05065452,  0.05755502, -0.10457614, -0.13381958, -0.07012915,\n",
       "       -0.01911015, -0.04911895,  0.02345225,  0.07288831, -0.09729207,\n",
       "       -0.01912116, -0.0860671 ,  0.08589752, -0.13509355, -0.00525633,\n",
       "       -0.0480726 , -0.01246819, -0.06158394,  0.05174482, -0.02741939,\n",
       "        0.08749153,  0.03240972, -0.11484692, -0.11341407,  0.01939058,\n",
       "        0.23576456,  0.01968047, -0.02157095, -0.01739761,  0.08634907,\n",
       "        0.00787343,  0.04091279,  0.01201597,  0.18262288, -0.10240593,\n",
       "        0.0570411 , -0.05083935, -0.13286135, -0.05200791,  0.0946802 ,\n",
       "       -0.14410555, -0.01899474,  0.1301259 , -0.00420268,  0.12986432,\n",
       "        0.01946285,  0.01885734, -0.06901577, -0.12276407, -0.04933837,\n",
       "        0.0717499 , -0.01854289,  0.06884106,  0.05910559,  0.1257461 ,\n",
       "       -0.2147873 , -0.13474354,  0.07165524, -0.05226522, -0.03031413,\n",
       "       -0.17027146,  0.12645851, -0.01144914,  0.05585413, -0.02236331,\n",
       "       -0.18031679, -0.01095594, -0.00131705,  0.02439788, -0.0694224 ,\n",
       "        0.06497055,  0.20531029, -0.01428935, -0.05807629, -0.04815174,\n",
       "       -0.01463863,  0.19335033, -0.02877856,  0.07556871, -0.10194393,\n",
       "       -0.11768024, -0.15683946, -0.0253583 , -0.03545926, -0.155003  ,\n",
       "       -0.00115013,  0.07558711, -0.08046562, -0.08104896,  0.10014907,\n",
       "        0.01152142, -0.05376427, -0.19307549, -0.00862412,  0.10052545,\n",
       "       -0.01016845,  0.01288384, -0.00435016, -0.02239493,  0.18262793,\n",
       "       -0.03673072,  0.13122115, -0.00216916])"
      ]
     },
     "execution_count": 55,
     "metadata": {},
     "output_type": "execute_result"
    }
   ],
   "source": [
    "a.representation"
   ]
  },
  {
   "cell_type": "code",
   "execution_count": 56,
   "metadata": {},
   "outputs": [
    {
     "data": {
      "text/plain": [
       "460"
      ]
     },
     "execution_count": 56,
     "metadata": {},
     "output_type": "execute_result"
    }
   ],
   "source": [
    "len(all)"
   ]
  },
  {
   "cell_type": "code",
   "execution_count": 57,
   "metadata": {},
   "outputs": [],
   "source": [
    "reps = [i.representation for i in all]"
   ]
  },
  {
   "cell_type": "code",
   "execution_count": 58,
   "metadata": {},
   "outputs": [],
   "source": [
    "avg_person = np.mean(reps, axis = 0)"
   ]
  },
  {
   "cell_type": "code",
   "execution_count": 59,
   "metadata": {},
   "outputs": [],
   "source": [
    "distances = [np.linalg.norm(avg_person-i) for i in reps]"
   ]
  },
  {
   "cell_type": "code",
   "execution_count": 60,
   "metadata": {},
   "outputs": [
    {
     "data": {
      "text/plain": [
       "0.7193356803138735"
      ]
     },
     "execution_count": 60,
     "metadata": {},
     "output_type": "execute_result"
    }
   ],
   "source": [
    "min(distances)"
   ]
  },
  {
   "cell_type": "code",
   "execution_count": 61,
   "metadata": {},
   "outputs": [
    {
     "data": {
      "text/plain": [
       "54"
      ]
     },
     "execution_count": 61,
     "metadata": {},
     "output_type": "execute_result"
    }
   ],
   "source": [
    "np.argmin(distances)"
   ]
  },
  {
   "cell_type": "code",
   "execution_count": 62,
   "metadata": {},
   "outputs": [
    {
     "data": {
      "text/plain": [
       "array([ 54, 223, 326])"
      ]
     },
     "execution_count": 62,
     "metadata": {},
     "output_type": "execute_result"
    }
   ],
   "source": [
    "np.argsort(distances)[:3]"
   ]
  },
  {
   "cell_type": "code",
   "execution_count": 63,
   "metadata": {},
   "outputs": [
    {
     "data": {
      "text/plain": [
       "('Piotr Zgorzelski', 'Tomasz Zieliński', 'Józef Brynkus')"
      ]
     },
     "execution_count": 63,
     "metadata": {},
     "output_type": "execute_result"
    }
   ],
   "source": [
    "all[54].name, all[223].name, all[326].name"
   ]
  },
  {
   "cell_type": "code",
   "execution_count": 64,
   "metadata": {},
   "outputs": [],
   "source": [
    "df = pd.DataFrame(reps)"
   ]
  },
  {
   "cell_type": "code",
   "execution_count": 221,
   "metadata": {},
   "outputs": [],
   "source": [
    "from sklearn.manifold import TSNE\n",
    "df_embedded = TSNE(n_components=2).fit_transform(df)"
   ]
  },
  {
   "cell_type": "code",
   "execution_count": 222,
   "metadata": {},
   "outputs": [
    {
     "data": {
      "text/plain": [
       "TSNE(angle=0.5, early_exaggeration=12.0, init='random', learning_rate=200.0,\n",
       "   method='barnes_hut', metric='euclidean', min_grad_norm=1e-07,\n",
       "   n_components=2, n_iter=1000, n_iter_without_progress=300,\n",
       "   perplexity=30.0, random_state=None, verbose=0)"
      ]
     },
     "execution_count": 222,
     "metadata": {},
     "output_type": "execute_result"
    }
   ],
   "source": [
    "tsne.fit(df)"
   ]
  },
  {
   "cell_type": "code",
   "execution_count": 223,
   "metadata": {},
   "outputs": [],
   "source": [
    "# from sklearn.decomposition import PCA\n",
    "# pca = PCA(n_components=2)\n",
    "# \n",
    "# pca.fit(df)"
   ]
  },
  {
   "cell_type": "code",
   "execution_count": 224,
   "metadata": {},
   "outputs": [],
   "source": [
    "pca_pred = pd.DataFrame(pca.transform(df))"
   ]
  },
  {
   "cell_type": "code",
   "execution_count": null,
   "metadata": {},
   "outputs": [],
   "source": []
  },
  {
   "cell_type": "code",
   "execution_count": 225,
   "metadata": {},
   "outputs": [],
   "source": [
    "pca_pred = pd.DataFrame(df_embedded)"
   ]
  },
  {
   "cell_type": "code",
   "execution_count": 226,
   "metadata": {},
   "outputs": [],
   "source": [
    "pca_pred['color'] = 'green'\n",
    "pca_pred['size'] = 30"
   ]
  },
  {
   "cell_type": "code",
   "execution_count": 227,
   "metadata": {},
   "outputs": [],
   "source": [
    "pca_pred.loc[54,'color'] = 'red'\n",
    "pca_pred.loc[223,'color'] = 'red'\n",
    "pca_pred.loc[326,'color'] = 'red'\n",
    "pca_pred.loc[54,'size'] =  60 \n",
    "pca_pred.loc[223,'size'] = 60\n",
    "pca_pred.loc[326,'size'] = 60"
   ]
  },
  {
   "cell_type": "code",
   "execution_count": 228,
   "metadata": {},
   "outputs": [
    {
     "data": {
      "text/html": [
       "<div>\n",
       "<style scoped>\n",
       "    .dataframe tbody tr th:only-of-type {\n",
       "        vertical-align: middle;\n",
       "    }\n",
       "\n",
       "    .dataframe tbody tr th {\n",
       "        vertical-align: top;\n",
       "    }\n",
       "\n",
       "    .dataframe thead th {\n",
       "        text-align: right;\n",
       "    }\n",
       "</style>\n",
       "<table border=\"1\" class=\"dataframe\">\n",
       "  <thead>\n",
       "    <tr style=\"text-align: right;\">\n",
       "      <th></th>\n",
       "      <th>0</th>\n",
       "      <th>1</th>\n",
       "      <th>color</th>\n",
       "      <th>size</th>\n",
       "    </tr>\n",
       "  </thead>\n",
       "  <tbody>\n",
       "    <tr>\n",
       "      <th>0</th>\n",
       "      <td>18.708027</td>\n",
       "      <td>5.852022</td>\n",
       "      <td>green</td>\n",
       "      <td>30</td>\n",
       "    </tr>\n",
       "    <tr>\n",
       "      <th>1</th>\n",
       "      <td>22.234932</td>\n",
       "      <td>19.397507</td>\n",
       "      <td>green</td>\n",
       "      <td>30</td>\n",
       "    </tr>\n",
       "    <tr>\n",
       "      <th>2</th>\n",
       "      <td>-1.698060</td>\n",
       "      <td>2.973945</td>\n",
       "      <td>green</td>\n",
       "      <td>30</td>\n",
       "    </tr>\n",
       "    <tr>\n",
       "      <th>3</th>\n",
       "      <td>-18.028090</td>\n",
       "      <td>5.257444</td>\n",
       "      <td>green</td>\n",
       "      <td>30</td>\n",
       "    </tr>\n",
       "    <tr>\n",
       "      <th>4</th>\n",
       "      <td>-11.758854</td>\n",
       "      <td>-7.054546</td>\n",
       "      <td>green</td>\n",
       "      <td>30</td>\n",
       "    </tr>\n",
       "  </tbody>\n",
       "</table>\n",
       "</div>"
      ],
      "text/plain": [
       "           0          1  color  size\n",
       "0  18.708027   5.852022  green    30\n",
       "1  22.234932  19.397507  green    30\n",
       "2  -1.698060   2.973945  green    30\n",
       "3 -18.028090   5.257444  green    30\n",
       "4 -11.758854  -7.054546  green    30"
      ]
     },
     "execution_count": 228,
     "metadata": {},
     "output_type": "execute_result"
    }
   ],
   "source": [
    "pca_pred.head()"
   ]
  },
  {
   "cell_type": "code",
   "execution_count": 229,
   "metadata": {},
   "outputs": [],
   "source": [
    "sex = [i.name.split(' ')[0][-1] == 'a' for i in all]"
   ]
  },
  {
   "cell_type": "code",
   "execution_count": 230,
   "metadata": {},
   "outputs": [
    {
     "data": {
      "text/plain": [
       "460"
      ]
     },
     "execution_count": 230,
     "metadata": {},
     "output_type": "execute_result"
    }
   ],
   "source": [
    "len(sex)"
   ]
  },
  {
   "cell_type": "code",
   "execution_count": 231,
   "metadata": {},
   "outputs": [],
   "source": [
    "pca_pred['women'] = np.array(sex).astype(int)"
   ]
  },
  {
   "cell_type": "code",
   "execution_count": 232,
   "metadata": {},
   "outputs": [],
   "source": [
    "pca_pred['women'] = np.where(pca_pred['women'] == 1, \"<\",\"+\")"
   ]
  },
  {
   "cell_type": "code",
   "execution_count": 233,
   "metadata": {},
   "outputs": [],
   "source": [
    "import matplotlib.pyplot as plt"
   ]
  },
  {
   "cell_type": "code",
   "execution_count": 234,
   "metadata": {},
   "outputs": [
    {
     "data": {
      "image/png": "[encoded data removed]",
      "text/plain": [
       "<Figure size 1440x720 with 1 Axes>"
      ]
     },
     "metadata": {},
     "output_type": "display_data"
    }
   ],
   "source": [
    "plt.figure(figsize=(20,10))\n",
    "for marker in [\"<\",\"+\"]:\n",
    "    if marker == \"+\":\n",
    "        shape = 'Man'\n",
    "    else:\n",
    "        shape = 'Woman'\n",
    "        \n",
    "    df_to_plot = pca_pred[pca_pred['women'] == marker]\n",
    "    plt.scatter(df_to_plot[0],\n",
    "            df_to_plot[1], \n",
    "            c = df_to_plot['color'], \n",
    "            alpha = 0.8, \n",
    "            s = df_to_plot['size'], \n",
    "            marker=marker,\n",
    "            label=shape)\n",
    "\n",
    "plt.xlabel('X1')\n",
    "plt.ylabel('X2')\n",
    "plt.legend(numpoints=1)\n",
    "plt.title(\"t-SNE transformation\")\n",
    "plt.show()"
   ]
  },
  {
   "cell_type": "code",
   "execution_count": 235,
   "metadata": {},
   "outputs": [
    {
     "data": {
      "image/png": "[encoded data removed]",
      "text/plain": [
       "<Figure size 1440x720 with 1 Axes>"
      ]
     },
     "metadata": {},
     "output_type": "display_data"
    }
   ],
   "source": [
    "plt.figure(figsize=(20,10))\n",
    "plt.scatter(pca_pred[0],\n",
    "            pca_pred[1], \n",
    "            c = pca_pred['color'], \n",
    "            alpha = 0.8, \n",
    "            s = pca_pred['size'])\n",
    "plt.xlabel('X1')\n",
    "plt.ylabel('X2')\n",
    "\n",
    "plt.title(\"t-SNE transformation\")\n",
    "plt.show()"
   ]
  },
  {
   "cell_type": "code",
   "execution_count": 236,
   "metadata": {},
   "outputs": [],
   "source": [
    "from sklearn.cluster import KMeans"
   ]
  },
  {
   "cell_type": "code",
   "execution_count": 237,
   "metadata": {},
   "outputs": [],
   "source": [
    "from sklearn.preprocessing import StandardScaler"
   ]
  },
  {
   "cell_type": "code",
   "execution_count": 238,
   "metadata": {},
   "outputs": [],
   "source": [
    "scaler = StandardScaler()\n"
   ]
  },
  {
   "cell_type": "code",
   "execution_count": 239,
   "metadata": {},
   "outputs": [
    {
     "name": "stderr",
     "output_type": "stream",
     "text": [
      "/home/rafal/anaconda3/lib/python3.6/site-packages/sklearn/preprocessing/data.py:617: DataConversionWarning: Data with input dtype float32 were all converted to float64 by StandardScaler.\n",
      "  return self.partial_fit(X, y)\n",
      "/home/rafal/anaconda3/lib/python3.6/site-packages/sklearn/base.py:462: DataConversionWarning: Data with input dtype float32 were all converted to float64 by StandardScaler.\n",
      "  return self.fit(X, **fit_params).transform(X)\n"
     ]
    }
   ],
   "source": [
    "kmeans = KMeans(n_clusters=3, random_state=0).fit(scaler.fit_transform(pca_pred.iloc[:,:2]) )"
   ]
  },
  {
   "cell_type": "code",
   "execution_count": 240,
   "metadata": {},
   "outputs": [],
   "source": [
    "pca_pred['clust'] = kmeans.labels_"
   ]
  },
  {
   "cell_type": "code",
   "execution_count": 241,
   "metadata": {},
   "outputs": [],
   "source": [
    "pca_pred['clust'] = np.where(pca_pred['clust'] == 0, 'orange', pca_pred['clust'])\n",
    "pca_pred['clust'] = np.where(pca_pred['clust'] == '1', 'green', pca_pred['clust'])\n",
    "pca_pred['clust'] = np.where(pca_pred['clust'] == '2', 'blue', pca_pred['clust'])"
   ]
  },
  {
   "cell_type": "code",
   "execution_count": 242,
   "metadata": {},
   "outputs": [
    {
     "data": {
      "text/html": [
       "<div>\n",
       "<style scoped>\n",
       "    .dataframe tbody tr th:only-of-type {\n",
       "        vertical-align: middle;\n",
       "    }\n",
       "\n",
       "    .dataframe tbody tr th {\n",
       "        vertical-align: top;\n",
       "    }\n",
       "\n",
       "    .dataframe thead th {\n",
       "        text-align: right;\n",
       "    }\n",
       "</style>\n",
       "<table border=\"1\" class=\"dataframe\">\n",
       "  <thead>\n",
       "    <tr style=\"text-align: right;\">\n",
       "      <th></th>\n",
       "      <th>0</th>\n",
       "      <th>1</th>\n",
       "      <th>color</th>\n",
       "      <th>size</th>\n",
       "      <th>women</th>\n",
       "      <th>clust</th>\n",
       "    </tr>\n",
       "  </thead>\n",
       "  <tbody>\n",
       "    <tr>\n",
       "      <th>0</th>\n",
       "      <td>18.708027</td>\n",
       "      <td>5.852022</td>\n",
       "      <td>green</td>\n",
       "      <td>30</td>\n",
       "      <td>&lt;</td>\n",
       "      <td>green</td>\n",
       "    </tr>\n",
       "    <tr>\n",
       "      <th>1</th>\n",
       "      <td>22.234932</td>\n",
       "      <td>19.397507</td>\n",
       "      <td>green</td>\n",
       "      <td>30</td>\n",
       "      <td>&lt;</td>\n",
       "      <td>green</td>\n",
       "    </tr>\n",
       "    <tr>\n",
       "      <th>2</th>\n",
       "      <td>-1.698060</td>\n",
       "      <td>2.973945</td>\n",
       "      <td>green</td>\n",
       "      <td>30</td>\n",
       "      <td>+</td>\n",
       "      <td>blue</td>\n",
       "    </tr>\n",
       "    <tr>\n",
       "      <th>3</th>\n",
       "      <td>-18.028090</td>\n",
       "      <td>5.257444</td>\n",
       "      <td>green</td>\n",
       "      <td>30</td>\n",
       "      <td>+</td>\n",
       "      <td>blue</td>\n",
       "    </tr>\n",
       "    <tr>\n",
       "      <th>4</th>\n",
       "      <td>-11.758854</td>\n",
       "      <td>-7.054546</td>\n",
       "      <td>green</td>\n",
       "      <td>30</td>\n",
       "      <td>+</td>\n",
       "      <td>orange</td>\n",
       "    </tr>\n",
       "  </tbody>\n",
       "</table>\n",
       "</div>"
      ],
      "text/plain": [
       "           0          1  color  size women   clust\n",
       "0  18.708027   5.852022  green    30     <   green\n",
       "1  22.234932  19.397507  green    30     <   green\n",
       "2  -1.698060   2.973945  green    30     +    blue\n",
       "3 -18.028090   5.257444  green    30     +    blue\n",
       "4 -11.758854  -7.054546  green    30     +  orange"
      ]
     },
     "execution_count": 242,
     "metadata": {},
     "output_type": "execute_result"
    }
   ],
   "source": [
    "pca_pred.head()"
   ]
  },
  {
   "cell_type": "code",
   "execution_count": 243,
   "metadata": {},
   "outputs": [
    {
     "data": {
      "text/plain": [
       "(array([0, 1, 2], dtype=int32), array([180, 131, 149]))"
      ]
     },
     "execution_count": 243,
     "metadata": {},
     "output_type": "execute_result"
    }
   ],
   "source": [
    "np.unique(kmeans.labels_, return_counts=True)"
   ]
  },
  {
   "cell_type": "code",
   "execution_count": 244,
   "metadata": {},
   "outputs": [
    {
     "data": {
      "image/png": "[encoded data removed]",
      "text/plain": [
       "<Figure size 1440x720 with 1 Axes>"
      ]
     },
     "metadata": {},
     "output_type": "display_data"
    }
   ],
   "source": [
    "plt.figure(figsize=(20,10))\n",
    "for marker in [\"<\",\"+\"]:\n",
    "    if marker == \"+\":\n",
    "        shape = 'Man'\n",
    "    else:\n",
    "        shape = 'Woman'\n",
    "    \n",
    "    df_to_plot = pca_pred[pca_pred['women'] == marker]\n",
    "    plt.scatter(df_to_plot[0],\n",
    "            df_to_plot[1], \n",
    "            c = df_to_plot['clust'], \n",
    "            alpha = 0.8, \n",
    "            s = df_to_plot['size'], \n",
    "            marker=marker,\n",
    "            label=shape)\n",
    "\n",
    "plt.xlabel('X1')\n",
    "plt.ylabel('X2')\n",
    "plt.legend(numpoints=1)\n",
    "plt.title(\"t-SNE transformation\")\n",
    "plt.show()"
   ]
  },
  {
   "cell_type": "code",
   "execution_count": 245,
   "metadata": {
    "scrolled": true
   },
   "outputs": [
    {
     "data": {
      "text/plain": [
       "array([[ 1.87080269e+01,  5.85202217e+00],\n",
       "       [ 2.22349319e+01,  1.93975067e+01],\n",
       "       [-1.69806015e+00,  2.97394538e+00],\n",
       "       [-1.80280895e+01,  5.25744390e+00],\n",
       "       [-1.17588539e+01, -7.05454636e+00],\n",
       "       [ 5.38318920e+00, -1.63026772e+01],\n",
       "       [ 4.02389765e+00, -1.60214462e+01],\n",
       "       [ 4.55190182e+00, -6.04358864e+00],\n",
       "       [-4.64551926e+00,  2.43676066e+00],\n",
       "       [-1.78801346e+01, -9.00663567e+00],\n",
       "       [-3.94183755e+00, -3.78274536e+00],\n",
       "       [ 3.55658913e+00, -1.17210855e+01],\n",
       "       [-9.71399593e+00,  7.26351595e+00],\n",
       "       [-4.50041294e+00, -2.78394914e+00],\n",
       "       [ 9.17226982e+00, -8.27145040e-01],\n",
       "       [-1.39468460e+01,  5.67336178e+00],\n",
       "       [ 6.13584614e+00, -1.53748188e+01],\n",
       "       [-2.52393460e+00,  2.49425054e+00],\n",
       "       [ 1.47618043e+00, -1.88342552e+01],\n",
       "       [-9.90424728e+00, -7.35340834e+00],\n",
       "       [-1.80408669e+01, -1.91687050e+01],\n",
       "       [ 2.19619522e+01,  1.69855289e+01],\n",
       "       [-1.67519760e+01, -7.65424347e+00],\n",
       "       [ 1.51064405e+01,  2.00332069e+01],\n",
       "       [ 8.54631233e+00, -3.94558311e+00],\n",
       "       [ 5.55910349e+00, -8.53969002e+00],\n",
       "       [ 6.28539324e+00, -2.29022765e+00],\n",
       "       [-1.29347391e+01, -1.32441053e+01],\n",
       "       [-7.78639603e+00, -3.09123516e+00],\n",
       "       [ 1.61304970e+01,  1.23708773e+01],\n",
       "       [-1.82705212e+01, -4.22800541e+00],\n",
       "       [-5.76412976e-01,  5.30817938e+00],\n",
       "       [ 2.40186634e+01,  1.30241213e+01],\n",
       "       [-1.14683905e+01, -4.82076693e+00],\n",
       "       [-1.41910200e+01,  6.12493530e-02],\n",
       "       [-1.57827101e+01, -1.43320379e+01],\n",
       "       [-1.57984276e+01,  1.17212260e+00],\n",
       "       [-7.44716454e+00, -1.14537792e+01],\n",
       "       [ 1.82619438e+01,  1.64871082e+01],\n",
       "       [ 2.93090363e+01,  1.65996361e+01],\n",
       "       [-1.25134802e+01, -1.32628572e+00],\n",
       "       [ 1.43202553e+01,  9.60149384e+00],\n",
       "       [-2.10842037e+00, -1.87645302e+01],\n",
       "       [-4.43381596e+00,  8.41309929e+00],\n",
       "       [ 1.68337231e+01,  1.36675615e+01],\n",
       "       [ 4.47500324e+00, -1.11229372e+01],\n",
       "       [-1.00807638e+01, -1.94172173e+01],\n",
       "       [ 1.72213306e+01,  1.71340084e+01],\n",
       "       [ 1.96896000e+01,  9.57659435e+00],\n",
       "       [-2.21189442e+01, -1.34064140e+01],\n",
       "       [-4.42721558e+00, -8.29622173e+00],\n",
       "       [-8.22256756e+00,  9.88891888e+00],\n",
       "       [-1.37050343e+01,  1.79632509e+00],\n",
       "       [ 2.91402173e+00, -2.07515645e+00],\n",
       "       [-1.22698965e+01, -1.10896702e+01],\n",
       "       [-1.07421672e+00, -4.65958261e+00],\n",
       "       [ 2.03604584e+01,  8.92850113e+00],\n",
       "       [-5.15769720e+00, -2.09489975e+01],\n",
       "       [ 2.55546532e+01,  1.32036648e+01],\n",
       "       [ 1.62979736e+01,  1.56150255e+01],\n",
       "       [ 5.56258917e-01, -8.66407394e+00],\n",
       "       [ 7.64309740e+00, -7.87444925e+00],\n",
       "       [-2.03459682e+01,  3.62075639e+00],\n",
       "       [ 8.42379665e+00, -9.54027116e-01],\n",
       "       [-2.15200958e+01, -7.71442366e+00],\n",
       "       [-2.73064876e+00,  1.49274111e+00],\n",
       "       [ 1.13664198e+01,  1.74280663e+01],\n",
       "       [-8.62351704e+00,  1.02579188e+00],\n",
       "       [-3.78866935e+00, -2.00777187e+01],\n",
       "       [ 7.92576894e-02,  6.95219374e+00],\n",
       "       [ 4.20757174e-01, -4.66522169e+00],\n",
       "       [-3.37748265e+00, -1.76558437e+01],\n",
       "       [-1.45211267e+01, -2.69929413e-02],\n",
       "       [-1.18070202e+01, -5.08436060e+00],\n",
       "       [-1.76295414e+01, -1.11848211e+01],\n",
       "       [ 2.23744888e+01,  1.19601068e+01],\n",
       "       [ 1.29583349e+01,  1.23716393e+01],\n",
       "       [ 2.85384064e+01,  1.34900293e+01],\n",
       "       [-9.10560513e+00, -2.31755047e+01],\n",
       "       [-2.79564595e+00, -1.56386924e+00],\n",
       "       [-5.43616581e+00, -1.10966176e-01],\n",
       "       [ 2.37854195e+01,  2.17846642e+01],\n",
       "       [-1.91020126e+01,  5.43701887e+00],\n",
       "       [-6.55735397e+00, -1.03240433e+01],\n",
       "       [ 1.56247931e+01,  1.78747463e+01],\n",
       "       [ 2.33733387e+01,  1.38969965e+01],\n",
       "       [-5.91262865e+00, -6.16915655e+00],\n",
       "       [-1.97505510e+00, -7.82367611e+00],\n",
       "       [-1.02933292e+01, -1.52085981e+01],\n",
       "       [-8.11125696e-01, -1.80150204e+01],\n",
       "       [ 6.01076078e+00, -1.34369195e-01],\n",
       "       [-1.40173845e+01, -4.20680571e+00],\n",
       "       [ 2.56834221e+01,  1.45854788e+01],\n",
       "       [ 2.61652050e+01,  9.53378010e+00],\n",
       "       [-2.84259844e+00, -5.55353260e+00],\n",
       "       [ 2.72998257e+01,  1.15734015e+01],\n",
       "       [-1.89334736e+01,  5.54013073e-01],\n",
       "       [-8.09732437e+00, -7.60992146e+00],\n",
       "       [-1.36898413e+01, -6.64802599e+00],\n",
       "       [-1.70514927e+01, -1.17842255e+01],\n",
       "       [-1.61579990e+01, -7.89985061e-02],\n",
       "       [ 2.17636204e+01,  1.57812796e+01],\n",
       "       [-3.32750344e+00, -1.58600414e+00],\n",
       "       [-1.35000086e+01, -1.01540556e+01],\n",
       "       [-2.19953384e+01, -6.68177605e+00],\n",
       "       [ 1.59671104e+00,  2.28113198e+00],\n",
       "       [ 2.43615284e+01,  8.84466553e+00],\n",
       "       [ 1.00447416e+01, -9.33934689e-01],\n",
       "       [ 8.26575816e-01,  1.15600777e+00],\n",
       "       [-2.02172375e+00,  6.10345984e+00],\n",
       "       [-9.29243183e+00, -1.63385525e+01],\n",
       "       [ 2.25241780e+00,  5.95319085e-03],\n",
       "       [-1.50199842e+01, -2.57661533e+00],\n",
       "       [ 1.96406212e+01,  1.12756233e+01],\n",
       "       [ 2.91962547e+01,  1.47612190e+01],\n",
       "       [ 2.13685398e+01,  2.13427200e+01],\n",
       "       [ 1.78213096e+00,  6.88316536e+00],\n",
       "       [ 2.31543255e+01,  8.72955894e+00],\n",
       "       [ 6.21359491e+00, -7.60096025e+00],\n",
       "       [-1.56811132e+01, -8.60231876e+00],\n",
       "       [-1.63371010e+01, -9.20597172e+00],\n",
       "       [ 3.02395992e+01,  1.36516275e+01],\n",
       "       [-1.60359097e+01, -6.79490089e+00],\n",
       "       [-1.86460953e+01,  1.26021814e+00],\n",
       "       [ 3.00615673e+01,  1.49360733e+01],\n",
       "       [-2.40833988e+01, -1.48321447e+01],\n",
       "       [-5.66251898e+00, -2.11294155e+01],\n",
       "       [-9.10470068e-01, -2.09375153e+01],\n",
       "       [ 3.28281283e+00, -1.14544334e+01],\n",
       "       [-1.14821303e+00, -4.03305864e+00],\n",
       "       [ 1.46215172e+01,  1.69889851e+01],\n",
       "       [-3.32610631e+00, -7.28961229e+00],\n",
       "       [ 2.38034463e+00,  1.28384995e+00],\n",
       "       [ 2.50809727e+01,  2.29095631e+01],\n",
       "       [ 1.23120508e+01, -2.56117225e+00],\n",
       "       [-8.90552580e-01, -9.77480316e+00],\n",
       "       [ 2.60872421e+01,  1.91833897e+01],\n",
       "       [-4.92621469e+00,  6.38850117e+00],\n",
       "       [-5.19887972e+00, -7.87951899e+00],\n",
       "       [ 1.40306664e+01,  1.33244953e+01],\n",
       "       [-6.29235029e+00, -4.47161585e-01],\n",
       "       [-1.07837839e+01,  2.02155018e+00],\n",
       "       [ 1.91029148e+01,  9.81323624e+00],\n",
       "       [ 1.93847446e+01,  2.36170540e+01],\n",
       "       [ 3.14519062e+01,  1.31677208e+01],\n",
       "       [-1.53780689e+01, -1.05768709e+01],\n",
       "       [ 6.07736731e+00,  3.82250667e+00],\n",
       "       [-8.80493164e+00, -1.44584484e+01],\n",
       "       [-2.04445953e+01, -5.09548759e+00],\n",
       "       [-4.25695717e-01,  7.77638292e+00],\n",
       "       [ 4.19675446e+00, -7.00996733e+00],\n",
       "       [-4.03801107e+00, -1.21324606e+01],\n",
       "       [ 2.09690056e+01,  2.48923168e+01],\n",
       "       [-1.37793171e+00, -1.84356289e+01],\n",
       "       [-1.67165356e+01, -3.43449950e+00],\n",
       "       [-2.23184319e+01, -6.25420427e+00],\n",
       "       [-1.26554117e+01, -1.48979435e+01],\n",
       "       [ 1.82435570e+01,  1.10167789e+01],\n",
       "       [ 6.78775311e+00, -3.37811875e+00],\n",
       "       [ 1.56144571e+01,  9.92998409e+00],\n",
       "       [-9.42261982e+00, -2.74104691e+00],\n",
       "       [ 2.06897259e+01,  2.01092377e+01],\n",
       "       [-1.61303558e+01,  7.08341503e+00],\n",
       "       [-8.58643436e+00, -1.29778414e+01],\n",
       "       [-9.00671482e+00, -4.10329390e+00],\n",
       "       [ 2.11765461e+01,  1.21621008e+01],\n",
       "       [-1.73044109e+01, -1.02135420e+01],\n",
       "       [ 2.52787352e+00, -1.24137621e+01],\n",
       "       [-2.31138306e+01, -1.08508816e+01],\n",
       "       [ 1.97356281e+01,  1.80746460e+01],\n",
       "       [-9.06257153e+00, -5.10746479e+00],\n",
       "       [-1.41808491e+01,  1.62464166e+00],\n",
       "       [-7.86065817e+00, -6.60797024e+00],\n",
       "       [-7.62423706e+00, -8.29908657e+00],\n",
       "       [ 1.88663254e+01,  8.97328663e+00],\n",
       "       [-8.07674313e+00, -9.78366566e+00],\n",
       "       [-8.55377960e+00,  7.17014647e+00],\n",
       "       [-2.08321018e+01, -1.04779644e+01],\n",
       "       [-8.86573792e+00, -1.06826477e+01],\n",
       "       [-1.14294853e+01,  7.08121681e+00],\n",
       "       [ 2.69142456e+01,  1.71514568e+01],\n",
       "       [ 2.08885536e+01,  8.20550060e+00],\n",
       "       [-8.58375072e+00, -5.38318396e+00],\n",
       "       [ 4.52005148e+00, -1.23911953e+01],\n",
       "       [ 2.49488354e+01,  2.34226933e+01],\n",
       "       [-1.93953342e+01, -1.18742342e+01],\n",
       "       [-2.67387605e+00, -9.62640095e+00],\n",
       "       [-2.33402519e+01, -6.86714792e+00],\n",
       "       [ 2.60843048e+01,  1.50217838e+01],\n",
       "       [-5.14784050e+00, -1.29779291e+01],\n",
       "       [-8.04687515e-02,  5.28626025e-01],\n",
       "       [ 2.46421833e+01,  8.06200790e+00],\n",
       "       [-1.57108891e+00, -1.93685131e+01],\n",
       "       [ 2.19180412e+01,  1.84125710e+01],\n",
       "       [ 2.08855076e+01,  1.56363516e+01],\n",
       "       [-6.90637445e+00, -6.73117685e+00],\n",
       "       [-2.37927876e+01, -5.26216698e+00],\n",
       "       [ 2.11495647e+01,  1.99675789e+01],\n",
       "       [-7.35615492e+00, -1.44670172e+01],\n",
       "       [-1.40090504e+01, -1.46612482e+01],\n",
       "       [-3.10828876e+00, -4.16418648e+00],\n",
       "       [ 1.93197203e+00, -7.22700930e+00],\n",
       "       [ 2.78799419e+01,  2.18050175e+01],\n",
       "       [-2.11332664e+01, -1.26664133e+01],\n",
       "       [-1.55816336e+01,  7.48345852e+00],\n",
       "       [ 6.07711315e+00,  8.72411156e+00],\n",
       "       [-1.08203249e+01, -3.32474446e+00],\n",
       "       [-1.06641846e+01, -1.44778764e+00],\n",
       "       [ 2.75414810e+01,  2.14153709e+01],\n",
       "       [-1.89851398e+01, -1.52733068e+01],\n",
       "       [ 1.09585142e+00, -1.47006502e+01],\n",
       "       [ 2.22851543e+01,  9.81787491e+00],\n",
       "       [ 2.34504147e+01,  1.12750883e+01],\n",
       "       [ 2.18046498e+00, -2.93807817e+00],\n",
       "       [ 2.82028637e+01,  1.26363792e+01],\n",
       "       [ 2.09017682e+00,  2.42127442e+00],\n",
       "       [ 2.12530708e+01,  2.36058540e+01],\n",
       "       [-7.64674759e+00,  3.06634879e+00],\n",
       "       [-1.11497240e+01, -1.98931389e+01],\n",
       "       [-4.66125059e+00, -1.27593298e+01],\n",
       "       [ 1.94326553e+01,  1.37823353e+01],\n",
       "       [-5.93497276e+00, -1.76543427e+01],\n",
       "       [ 1.90166111e+01,  1.27117853e+01],\n",
       "       [-5.96117163e+00, -5.08491707e+00],\n",
       "       [-1.64043617e+00, -6.68464470e+00],\n",
       "       [-5.69843245e+00,  5.96028328e+00],\n",
       "       [-2.43117027e+01, -6.10826683e+00],\n",
       "       [-1.42831392e+01, -9.06599998e+00],\n",
       "       [-1.03946800e+01, -8.17377949e+00],\n",
       "       [ 2.51432209e+01,  1.75935326e+01],\n",
       "       [ 2.10684681e+01,  6.70283222e+00],\n",
       "       [ 1.55732450e+01,  1.40008221e+01],\n",
       "       [-1.21743069e+01, -1.60609417e+01],\n",
       "       [-1.06800776e+01, -2.69389939e+00],\n",
       "       [-9.60120106e+00, -1.64283600e+01],\n",
       "       [ 3.68681479e+00, -9.62007523e+00],\n",
       "       [-8.00662804e+00, -1.01952162e+01],\n",
       "       [-2.00252018e+01, -1.32643723e+00],\n",
       "       [ 1.04904995e+01, -1.35681665e+00],\n",
       "       [-2.16973724e+01, -3.63955116e+00],\n",
       "       [ 2.10753155e+01,  1.15402727e+01],\n",
       "       [-1.08672619e+01,  8.96335316e+00],\n",
       "       [-2.38371181e+01, -9.50987053e+00],\n",
       "       [ 5.14553845e-01, -1.38822627e+00],\n",
       "       [ 4.27161121e+00,  7.81297016e+00],\n",
       "       [-4.35374689e+00, -9.82827854e+00],\n",
       "       [-6.94245434e+00, -1.33061886e+01],\n",
       "       [ 2.16867638e+01,  1.04535818e+01],\n",
       "       [ 1.20491915e+01, -9.55815315e+00],\n",
       "       [ 7.29327679e-01, -4.26502752e+00],\n",
       "       [ 4.56759739e+00, -7.83855629e+00],\n",
       "       [ 1.77984104e+01,  9.57851505e+00],\n",
       "       [-1.38099051e+00, -1.19380369e+01],\n",
       "       [-4.35241550e-01, -1.26084442e+01],\n",
       "       [ 6.09583950e+00, -1.27587795e+01],\n",
       "       [ 8.65302658e+00, -4.05610228e+00],\n",
       "       [-1.37697115e+01, -6.89711761e+00],\n",
       "       [-1.37326679e+01, -1.78801174e+01],\n",
       "       [ 4.15222645e+00, -1.54253597e+01],\n",
       "       [ 2.63528728e+01,  9.99646378e+00],\n",
       "       [ 2.24560490e+01,  1.30045671e+01],\n",
       "       [-5.98188257e+00,  4.95520830e+00],\n",
       "       [ 2.44035091e+01,  1.83642941e+01],\n",
       "       [ 1.72657452e+01,  1.99498444e+01],\n",
       "       [-1.36224146e+01,  6.84569693e+00],\n",
       "       [ 7.90658236e+00,  4.24217671e-01],\n",
       "       [-2.98466206e+00, -9.77136707e+00],\n",
       "       [ 1.98047810e+01,  1.73052998e+01],\n",
       "       [ 1.19711790e+01, -9.51815414e+00],\n",
       "       [ 5.65770864e+00,  3.54801178e+00],\n",
       "       [-1.57240696e+01, -4.57695198e+00],\n",
       "       [-2.68458128e+00,  6.88468933e-01],\n",
       "       [-2.21787395e+01, -1.16087170e+01],\n",
       "       [ 2.13663521e+01,  9.92611408e+00],\n",
       "       [-1.55288668e+01, -9.96420097e+00],\n",
       "       [-2.03587837e+01,  3.72592425e+00],\n",
       "       [-1.29459867e+01,  2.12669754e+00],\n",
       "       [ 1.98723373e+01,  1.88661556e+01],\n",
       "       [ 1.52660770e+01,  1.56235046e+01],\n",
       "       [-1.47764266e+00,  7.80969429e+00],\n",
       "       [-5.85171998e-01, -1.66303062e+01],\n",
       "       [ 1.33705819e+00, -1.25662861e+01],\n",
       "       [ 1.06523170e+01, -2.69540280e-01],\n",
       "       [-2.37177505e+01, -9.72701645e+00],\n",
       "       [ 1.72132664e+01,  1.72059002e+01],\n",
       "       [ 1.09001577e+00, -6.48160458e+00],\n",
       "       [-4.60474634e+00, -1.46694794e+01],\n",
       "       [ 3.08085518e+01,  1.78526039e+01],\n",
       "       [-1.85090580e+01, -8.74615574e+00],\n",
       "       [-2.24722886e+00, -5.19886446e+00],\n",
       "       [-6.95252228e+00, -1.52463055e+00],\n",
       "       [-2.41015320e+01, -1.49200602e+01],\n",
       "       [-1.11193342e+01,  5.14068413e+00],\n",
       "       [ 2.47131119e+01,  1.12486248e+01],\n",
       "       [ 1.85246410e+01,  1.56993942e+01],\n",
       "       [-1.39031487e+01,  8.87943745e+00],\n",
       "       [-2.98209578e-01, -1.65901804e+00],\n",
       "       [-1.48303337e+01, -2.24017859e+00],\n",
       "       [-1.89447823e+01, -3.89064908e+00],\n",
       "       [-9.67417049e+00, -1.88279629e+01],\n",
       "       [ 1.80992851e+01,  1.89669743e+01],\n",
       "       [-1.30110025e+00, -6.17024422e+00],\n",
       "       [ 1.58819265e+01,  2.00866966e+01],\n",
       "       [-1.35414839e+01, -4.85861921e+00],\n",
       "       [ 2.33591213e+01,  2.18986282e+01],\n",
       "       [-9.09685898e+00, -9.81384039e-01],\n",
       "       [-1.00751495e+01, -1.78132057e+01],\n",
       "       [ 2.38178692e+01,  1.34297438e+01],\n",
       "       [ 1.86318016e+01,  8.02722740e+00],\n",
       "       [ 1.90479794e+01,  1.95575275e+01],\n",
       "       [-1.17210340e+01, -1.36184168e+01],\n",
       "       [-1.38716373e+01, -9.33777618e+00],\n",
       "       [ 2.24904404e+01,  8.55527687e+00],\n",
       "       [-2.71278882e+00,  5.90806055e+00],\n",
       "       [-3.81297469e+00, -2.13188529e+00],\n",
       "       [ 2.06627331e+01,  1.77552433e+01],\n",
       "       [ 7.75408840e+00, -1.13437624e+01],\n",
       "       [ 3.12001085e+00, -1.56940584e+01],\n",
       "       [-1.22414007e+01, -8.82271767e+00],\n",
       "       [-2.41412506e+01, -1.19411354e+01],\n",
       "       [ 1.74897194e+01,  2.06065292e+01],\n",
       "       [-2.15871658e+01, -4.01886749e+00],\n",
       "       [ 1.29279032e+01,  1.00697088e+01],\n",
       "       [ 1.58074102e+01,  8.02635288e+00],\n",
       "       [-1.36154594e+01,  6.21299553e+00],\n",
       "       [-6.39521837e-01, -1.42388487e+01],\n",
       "       [-1.27423115e+01, -1.28902464e+01],\n",
       "       [ 1.12815733e+01,  1.75318069e+01],\n",
       "       [ 2.29552364e+01,  9.55846882e+00],\n",
       "       [-1.56084328e+01, -4.37944221e+00],\n",
       "       [-4.99037647e+00,  2.39156485e+00],\n",
       "       [ 3.06004143e+01,  1.39768734e+01],\n",
       "       [-2.78717327e+00, -1.67843189e+01],\n",
       "       [ 5.98917055e+00, -3.06638265e+00],\n",
       "       [-1.54456949e+01, -1.22906790e+01],\n",
       "       [ 2.11238976e+01,  1.55652533e+01],\n",
       "       [ 3.13624344e+01,  1.80866680e+01],\n",
       "       [ 2.33626118e+01,  1.08241844e+01],\n",
       "       [-6.60427284e+00, -1.49267302e+01],\n",
       "       [ 2.32744331e+01,  1.64222984e+01],\n",
       "       [-1.19302092e+01,  4.59575224e+00],\n",
       "       [ 1.55614662e+01,  1.24199390e+01],\n",
       "       [ 2.94764876e+00, -9.88727379e+00],\n",
       "       [ 1.96399536e+01,  7.27749681e+00],\n",
       "       [-1.24580946e+01, -1.63030434e+01],\n",
       "       [-1.55652595e+00,  8.52367306e+00],\n",
       "       [ 7.81774092e+00, -3.79429793e+00],\n",
       "       [-6.07555294e+00, -3.05915141e+00],\n",
       "       [ 4.25114065e-01, -1.84494915e+01],\n",
       "       [-7.91095066e+00, -1.26029005e+01],\n",
       "       [-1.44505396e+01, -1.71775017e+01],\n",
       "       [ 2.00325623e+01,  2.36152000e+01],\n",
       "       [-1.05624332e+01, -8.19167972e-01],\n",
       "       [-8.51007402e-01, -7.79250765e+00],\n",
       "       [-2.52865505e+00, -1.58015442e+01],\n",
       "       [-1.03577414e+01,  5.14043570e+00],\n",
       "       [-1.19228859e+01, -1.44522228e+01],\n",
       "       [-1.44140303e+00, -1.62365780e+01],\n",
       "       [-1.15486593e+01, -7.56074858e+00],\n",
       "       [ 6.64309406e+00, -8.03230858e+00],\n",
       "       [-5.11869478e+00, -7.26909113e+00],\n",
       "       [ 1.43793430e+01,  9.09330368e+00],\n",
       "       [-2.09707880e+00, -4.29808140e+00],\n",
       "       [-1.66914349e+01,  1.66362822e+00],\n",
       "       [ 7.94830513e+00,  5.21165466e+00],\n",
       "       [ 3.02800999e+01,  1.58725338e+01],\n",
       "       [-1.97111073e+01, -2.63357854e+00],\n",
       "       [ 1.46877825e+00, -9.80285645e+00],\n",
       "       [-6.80703115e+00,  6.53110075e+00],\n",
       "       [ 2.93573532e+01,  1.81630840e+01],\n",
       "       [-5.92013597e+00, -1.53528576e+01],\n",
       "       [-7.68068457e+00, -1.58563938e+01],\n",
       "       [-1.46169913e+00,  5.73349476e+00],\n",
       "       [ 2.50282173e+01,  1.50358543e+01],\n",
       "       [ 3.11476135e+01,  2.08932076e+01],\n",
       "       [ 2.92101841e+01,  1.84788780e+01],\n",
       "       [-1.98756161e+01, -1.57431011e+01],\n",
       "       [-8.70553970e+00, -1.83029366e+01],\n",
       "       [-8.35680962e-01, -1.86987197e+00],\n",
       "       [-1.24210415e+01, -1.95296745e+01],\n",
       "       [ 2.39294586e+01,  1.99434090e+01],\n",
       "       [ 1.72795792e+01,  1.21999807e+01],\n",
       "       [-1.35454664e+01, -1.85343609e+01],\n",
       "       [-1.37426405e+01,  8.81986332e+00],\n",
       "       [-2.19558573e+00, -1.34111233e+01],\n",
       "       [-2.08245335e+01, -1.86150897e+00],\n",
       "       [-1.77397957e+01,  4.20394182e+00],\n",
       "       [ 1.71842632e+01,  1.96507530e+01],\n",
       "       [ 1.15607758e+01,  4.88513589e-01],\n",
       "       [ 3.43689990e+00, -1.97066569e+00],\n",
       "       [ 4.05619144e+00, -3.17146182e+00],\n",
       "       [ 9.39950943e+00, -6.44819498e+00],\n",
       "       [-1.77820091e+01, -7.11359167e+00],\n",
       "       [-1.68381729e+01, -1.43297024e+01],\n",
       "       [ 6.57868099e+00, -1.29958916e+01],\n",
       "       [ 3.12117176e+01,  2.07122459e+01],\n",
       "       [-6.27701902e+00, -1.81223564e+01],\n",
       "       [ 2.77430458e+01,  1.70060425e+01],\n",
       "       [-7.49563360e+00,  3.11522293e+00],\n",
       "       [-4.35065413e+00, -2.19946003e+01],\n",
       "       [-2.61710906e+00, -1.54055500e+01],\n",
       "       [-1.21907473e+01,  3.72556138e+00],\n",
       "       [-5.41201210e+00, -1.61060658e+01],\n",
       "       [ 1.85644684e+01,  1.35607185e+01],\n",
       "       [-1.71652126e+01, -6.96039438e+00],\n",
       "       [-7.83031845e+00, -1.52121325e+01],\n",
       "       [ 3.15464706e+01,  1.95253983e+01],\n",
       "       [-1.44368219e+01, -1.90655670e+01],\n",
       "       [-1.14304171e+01,  4.17842060e-01],\n",
       "       [ 1.07853204e-01, -1.44863720e+01],\n",
       "       [ 2.29626446e+01,  1.84246807e+01],\n",
       "       [ 6.23305464e+00, -1.55849085e+01],\n",
       "       [-1.82530746e+01, -4.93068600e+00],\n",
       "       [ 3.44911551e+00, -5.28661728e+00],\n",
       "       [-8.15668011e+00, -6.72557890e-01],\n",
       "       [ 5.28932524e+00,  8.43839550e+00],\n",
       "       [ 2.30281410e+01,  2.40451221e+01],\n",
       "       [ 2.59720783e+01,  1.22996302e+01],\n",
       "       [ 3.90138268e+00,  1.53465712e+00],\n",
       "       [ 1.87942581e+01,  2.10409927e+01],\n",
       "       [ 1.66479149e+01,  1.14403734e+01],\n",
       "       [ 2.66105042e+01,  1.94729290e+01],\n",
       "       [-9.91316986e+00, -1.18207264e+01],\n",
       "       [-8.36643028e+00, -1.93616962e+01],\n",
       "       [-1.06694469e+01, -9.54632473e+00],\n",
       "       [-9.89004135e+00, -6.23130560e+00],\n",
       "       [-1.20941381e+01,  8.51394749e+00],\n",
       "       [ 6.82479620e+00, -9.33066940e+00],\n",
       "       [ 3.22589517e+00, -5.25625515e+00],\n",
       "       [-1.91461964e+01, -7.18776512e+00],\n",
       "       [ 2.27064857e+01,  2.37469444e+01],\n",
       "       [ 2.61728611e+01,  1.64964943e+01],\n",
       "       [-1.89907684e+01, -1.30956573e+01],\n",
       "       [-8.86500931e+00, -2.55277663e-01],\n",
       "       [-1.61817284e+01, -1.52977695e+01],\n",
       "       [ 1.56322050e+01,  1.13046045e+01],\n",
       "       [-1.76730232e+01, -9.26654339e-01],\n",
       "       [ 4.33456326e+00, -6.86625600e-01],\n",
       "       [-6.03059649e-01, -1.26765108e+01],\n",
       "       [-6.57410562e-01, -2.02036247e+01],\n",
       "       [ 1.06430044e+01,  1.61985970e+01],\n",
       "       [-1.33533611e+01, -1.19856024e+01],\n",
       "       [ 3.91934204e+00,  3.93954802e+00],\n",
       "       [ 2.19174461e+01,  2.09412918e+01],\n",
       "       [-6.05592918e+00, -9.93050289e+00],\n",
       "       [ 2.12915859e+01,  1.38528566e+01],\n",
       "       [-8.87560844e+00, -1.19996090e+01],\n",
       "       [-7.88047504e+00, -5.69292355e+00],\n",
       "       [ 2.81547241e+01,  1.53130131e+01],\n",
       "       [ 6.51818752e+00, -7.96564341e-01],\n",
       "       [ 1.76130733e+01,  6.87428474e+00],\n",
       "       [ 2.73037758e+01,  1.52656841e+01],\n",
       "       [-1.21101542e+01,  6.37001610e+00],\n",
       "       [-1.02363310e+01, -1.03180761e+01],\n",
       "       [-9.11883163e+00,  2.41910505e+00],\n",
       "       [-1.27475681e+01, -2.03871059e+01],\n",
       "       [-2.14437523e+01, -1.19411850e+01],\n",
       "       [ 2.39744129e+01,  1.63408966e+01],\n",
       "       [ 1.00639582e+01,  4.20665264e+00],\n",
       "       [-1.76852036e+01,  2.17261147e+00]], dtype=float32)"
      ]
     },
     "execution_count": 245,
     "metadata": {},
     "output_type": "execute_result"
    }
   ],
   "source": [
    "pca_pred.iloc[:,:2].values"
   ]
  },
  {
   "cell_type": "code",
   "execution_count": 246,
   "metadata": {},
   "outputs": [
    {
     "data": {
      "text/plain": [
       "(460,)"
      ]
     },
     "execution_count": 246,
     "metadata": {},
     "output_type": "execute_result"
    }
   ],
   "source": [
    "np.sum((kmeans.cluster_centers_[0] - pca_pred.iloc[:,:2].values)**2,axis =1 ).shape"
   ]
  },
  {
   "cell_type": "code",
   "execution_count": 247,
   "metadata": {},
   "outputs": [
    {
     "data": {
      "text/plain": [
       "array([-17.3566326 ,  -4.56952927])"
      ]
     },
     "execution_count": 247,
     "metadata": {},
     "output_type": "execute_result"
    }
   ],
   "source": [
    "kmeans.cluster_centers_[1] - pca_pred.iloc[:,:2].values[0]"
   ]
  },
  {
   "cell_type": "code",
   "execution_count": 248,
   "metadata": {},
   "outputs": [
    {
     "data": {
      "text/plain": [
       "array([[3.77373171e+02, 4.67158920e+01],\n",
       "       [5.26840216e+02, 4.15360176e+02],\n",
       "       [9.60384198e-01, 1.56564696e+01],\n",
       "       [2.99636838e+02, 3.89416464e+01],\n",
       "       [1.21898949e+02, 3.68651285e+01],\n",
       "       [3.72253421e+01, 2.34696175e+02],\n",
       "       [2.24862403e+01, 2.26158465e+02],\n",
       "       [2.77725842e+01, 2.56107687e+01],\n",
       "       [1.54248717e+01, 1.16939444e+01],\n",
       "       [2.94536522e+02, 6.43806499e+01],\n",
       "       [1.03926887e+01, 7.83924426e+00],\n",
       "       [1.82726954e+01, 1.15309052e+02],\n",
       "       [8.09267155e+01, 6.80030514e+01],\n",
       "       [1.43061316e+01, 3.24384889e+00],\n",
       "       [9.78187865e+01, 2.42534767e-02],\n",
       "       [1.75000562e+02, 4.43055588e+01],\n",
       "       [4.69761420e+01, 2.07127893e+02],\n",
       "       [3.26115340e+00, 1.20904390e+01],\n",
       "       [4.81472714e+00, 3.18671586e+02],\n",
       "       [8.43858858e+01, 4.05836272e+01],\n",
       "       [3.00079353e+02, 3.30724219e+02],\n",
       "       [5.14383327e+02, 3.22863731e+02],\n",
       "       [2.57086199e+02, 4.45070863e+01],\n",
       "       [2.50415078e+02, 4.41675924e+02],\n",
       "       [8.58287470e+01, 8.77760781e+00],\n",
       "       [3.94028846e+01, 5.71053728e+01],\n",
       "       [4.90484724e+01, 1.70915705e+00],\n",
       "       [1.49247048e+02, 1.50337639e+02],\n",
       "       [4.99612580e+01, 4.44516014e+00],\n",
       "       [2.83874149e+02, 1.78322842e+02],\n",
       "       [3.08088604e+02, 1.05308369e+01],\n",
       "       [2.00662074e-02, 3.95774321e+01],\n",
       "       [6.11905891e+02, 1.96196094e+02],\n",
       "       [1.15569428e+02, 1.47293736e+01],\n",
       "       [1.81520430e+02, 1.09020677e+00],\n",
       "       [2.26943434e+02, 1.78200009e+02],\n",
       "       [2.27417239e+02, 4.64403757e+00],\n",
       "       [4.52807373e+01, 1.09639724e+02],\n",
       "       [3.60240857e+02, 3.05200500e+02],\n",
       "       [9.01627003e+02, 3.09144883e+02],\n",
       "       [1.39131744e+02, 1.17927270e-01],\n",
       "       [2.26151174e+02, 1.12028976e+02],\n",
       "       [1.93307911e+00, 3.16187072e+02],\n",
       "       [1.38067813e+01, 8.82844328e+01],\n",
       "       [3.08065377e+02, 2.14635446e+02],\n",
       "       [2.69679912e+01, 1.02820754e+02],\n",
       "       [8.76600689e+01, 3.39824778e+02],\n",
       "       [3.21822031e+02, 3.28221657e+02],\n",
       "       [4.16472922e+02, 1.11502505e+02],\n",
       "       [4.57997491e+02, 1.54344190e+02],\n",
       "       [1.37577741e+01, 5.34849627e+01],\n",
       "       [5.63175104e+01, 1.18196018e+02],\n",
       "       [1.68661287e+02, 7.72398268e+00],\n",
       "       [1.31920774e+01, 1.19306715e+00],\n",
       "       [1.33444737e+02, 1.02147201e+02],\n",
       "       [1.26841758e-01, 1.35181398e+01],\n",
       "       [4.44304283e+02, 9.82354822e+01],\n",
       "       [1.97103055e+01, 3.98645835e+02],\n",
       "       [6.90255889e+02, 2.01258062e+02],\n",
       "       [2.89545680e+02, 2.75490478e+02],\n",
       "       [1.62390964e+00, 5.90007355e+01],\n",
       "       [6.99090905e+01, 4.74937224e+01],\n",
       "       [3.85254460e+02, 2.11934709e+01],\n",
       "       [8.35736933e+01, 8.32507228e-04],\n",
       "       [4.32724353e+02, 4.53136757e+01],\n",
       "       [4.05048043e+00, 6.12870144e+00],\n",
       "       [1.46034850e+02, 3.38962954e+02],\n",
       "       [6.24961210e+01, 4.03476401e+00],\n",
       "       [9.42859130e+00, 3.64612854e+02],\n",
       "       [6.35728601e-01, 6.29654003e+01],\n",
       "       [1.29692327e+00, 1.35596380e+01],\n",
       "       [7.07248514e+00, 2.77987709e+02],\n",
       "       [1.90524425e+02, 9.13720676e-01],\n",
       "       [1.22964856e+02, 1.68221405e+01],\n",
       "       [2.85997925e+02, 1.04079596e+02],\n",
       "       [5.33266191e+02, 1.67520917e+02],\n",
       "       [1.87044003e+02, 1.78343193e+02],\n",
       "       [8.55941305e+02, 2.09465114e+02],\n",
       "       [7.03507754e+01, 4.92512576e+02],\n",
       "       [4.31632924e+00, 3.37548125e-01],\n",
       "       [2.22604449e+01, 7.60234271e-01],\n",
       "       [6.00420909e+02, 5.18361081e+02],\n",
       "       [3.37969412e+02, 4.12151056e+01],\n",
       "       [3.40972581e+01, 8.72573254e+01],\n",
       "       [2.67089114e+02, 3.55610083e+02],\n",
       "       [5.80395887e+02, 2.21410734e+02],\n",
       "       [2.69834581e+01, 2.68974612e+01],\n",
       "       [1.58001602e+00, 4.67964871e+01],\n",
       "       [9.16856236e+01, 2.02371047e+02],\n",
       "       [8.65969430e-03, 2.90093795e+02],\n",
       "       [4.52771397e+01, 7.19971126e-01],\n",
       "       [1.76871814e+02, 1.03936949e+01],\n",
       "       [6.97038690e+02, 2.42373805e+02],\n",
       "       [7.22710379e+02, 1.10600146e+02],\n",
       "       [4.51362866e+00, 2.08908623e+01],\n",
       "       [7.85002378e+02, 1.57660212e+02],\n",
       "       [3.31800993e+02, 2.36204130e+00],\n",
       "       [5.44534214e+01, 4.39176742e+01],\n",
       "       [1.68266896e+02, 3.20938755e+01],\n",
       "       [2.66780755e+02, 1.16669057e+02],\n",
       "       [2.38391464e+02, 8.17002329e-01],\n",
       "       [5.05426322e+02, 2.81037057e+02],\n",
       "       [6.80915220e+00, 3.63758343e-01],\n",
       "       [1.63378000e+02, 8.41104560e+01],\n",
       "       [4.52722228e+02, 3.24774125e+01],\n",
       "       [5.35820301e+00, 1.06537763e+01],\n",
       "       [6.28986166e+02, 9.65806573e+01],\n",
       "       [1.15838076e+02, 2.39567461e-03],\n",
       "       [2.38592519e+00, 4.57484224e+00],\n",
       "       [1.69951774e+00, 5.02162168e+01],\n",
       "       [7.35197114e+01, 2.35796667e+02],\n",
       "       [8.82378720e+00, 9.77791708e-01],\n",
       "       [2.04544802e+02, 2.53999130e+00],\n",
       "       [4.14476234e+02, 1.50270911e+02],\n",
       "       [8.94866717e+02, 2.47876664e+02],\n",
       "       [4.87818254e+02, 4.98432431e+02],\n",
       "       [6.25099591e+00, 6.18746746e+01],\n",
       "       [5.69891181e+02, 9.43314764e+01],\n",
       "       [4.80479538e+01, 4.37989821e+01],\n",
       "       [2.23892716e+02, 5.80558422e+01],\n",
       "       [2.43954185e+02, 6.76192322e+01],\n",
       "       [9.58377174e+02, 2.14168820e+02],\n",
       "       [2.34636266e+02, 3.37795832e+01],\n",
       "       [3.21414154e+02, 5.03149071e+00],\n",
       "       [9.47385963e+02, 2.53413084e+02],\n",
       "       [5.45938674e+02, 1.91802125e+02],\n",
       "       [2.44475933e+01, 4.05882880e+02],\n",
       "       [3.70184723e-02, 3.98187456e+02],\n",
       "       [1.60070492e+01, 1.09653425e+02],\n",
       "       [1.85024559e-01, 9.30358782e+00],\n",
       "       [2.35302880e+02, 3.22987945e+02],\n",
       "       [6.80186269e+00, 3.97748682e+01],\n",
       "       [9.60016217e+00, 5.13806613e+00],\n",
       "       [6.65590511e+02, 5.70848851e+02],\n",
       "       [1.69784002e+02, 2.49100541e+00],\n",
       "       [2.97508555e-02, 7.72979073e+01],\n",
       "       [7.18524663e+02, 4.06678445e+02],\n",
       "       [1.77084968e+01, 5.43372650e+01],\n",
       "       [2.00776717e+01, 4.75636249e+01],\n",
       "       [2.17525171e+02, 2.04700998e+02],\n",
       "       [3.10726207e+01, 2.86994560e-01],\n",
       "       [1.01318632e+02, 9.02660261e+00],\n",
       "       [3.92871368e+02, 1.16556133e+02],\n",
       "       [4.04123085e+02, 6.05156768e+02],\n",
       "       [1.03490725e+03, 2.00239512e+02],\n",
       "       [2.14915621e+02, 9.20446556e+01],\n",
       "       [4.61779439e+01, 2.30917441e+01],\n",
       "       [6.53973600e+01, 1.81590935e+02],\n",
       "       [3.89135872e+02, 1.69135386e+01],\n",
       "       [8.54816787e-02, 7.67246925e+01],\n",
       "       [2.41554819e+01, 3.63257778e+01],\n",
       "       [1.10220206e+01, 1.24313140e+02],\n",
       "       [4.70329170e+02, 6.69525827e+02],\n",
       "       [4.35419834e-01, 3.04598433e+02],\n",
       "       [2.55950958e+02, 6.01043663e+00],\n",
       "       [4.66575709e+02, 2.77868562e+01],\n",
       "       [1.42500170e+02, 1.93628983e+02],\n",
       "       [3.59543230e+02, 1.43991822e+02],\n",
       "       [5.63373537e+01, 5.73716716e+00],\n",
       "       [2.66751384e+02, 1.19090610e+02],\n",
       "       [7.57692186e+01, 3.09114975e+00],\n",
       "       [4.58293648e+02, 4.44877441e+02],\n",
       "       [2.37538610e+02, 6.50651207e+01],\n",
       "       [6.19111858e+01, 1.43879091e+02],\n",
       "       [6.87016625e+01, 9.73698090e+00],\n",
       "       [4.79374136e+02, 1.72790528e+02],\n",
       "       [2.75106765e+02, 8.52051148e+01],\n",
       "       [1.05361377e+01, 1.30665058e+02],\n",
       "       [5.01570171e+02, 9.73774488e+01],\n",
       "       [4.18353694e+02, 3.63189309e+02],\n",
       "       [6.96307355e+01, 1.70121971e+01],\n",
       "       [1.81246468e+02, 6.79917085e+00],\n",
       "       [5.10165912e+01, 3.16416366e+01],\n",
       "       [4.76951681e+01, 5.35268739e+01],\n",
       "       [3.83548473e+02, 9.91252603e+01],\n",
       "       [5.41500964e+01, 7.74538226e+01],\n",
       "       [6.13983729e+01, 6.64718457e+01],\n",
       "       [4.04574348e+02, 9.01566218e+01],\n",
       "       [6.63845215e+01, 9.40854874e+01],\n",
       "       [1.14734456e+02, 6.50296625e+01],\n",
       "       [7.63544767e+02, 3.28854184e+02],\n",
       "       [4.66846107e+02, 8.44263439e+01],\n",
       "       [6.18689613e+01, 1.93626721e+01],\n",
       "       [2.74378980e+01, 1.30149651e+02],\n",
       "       [6.58789940e+02, 5.95632021e+02],\n",
       "       [3.48840266e+02, 1.18621589e+02],\n",
       "       [3.82518427e+00, 7.47104489e+01],\n",
       "       [5.11763196e+02, 3.46246052e+01],\n",
       "       [7.18367200e+02, 2.56149274e+02],\n",
       "       [1.96228825e+01, 1.43881196e+02],\n",
       "       [4.06533079e-01, 2.28465142e+00],\n",
       "       [6.43142357e+02, 8.18100029e+01],\n",
       "       [7.27644302e-01, 3.38031493e+02],\n",
       "       [5.12393451e+02, 3.76183530e+02],\n",
       "       [4.66714487e+02, 2.76198869e+02],\n",
       "       [3.82951341e+01, 3.30429131e+01],\n",
       "       [5.32442672e+02, 1.83122943e+01],\n",
       "       [4.78193371e+02, 4.38921741e+02],\n",
       "       [4.40641951e+01, 1.81821947e+02],\n",
       "       [1.76650207e+02, 1.87097748e+02],\n",
       "       [5.71315427e+00, 1.01207089e+01],\n",
       "       [7.02271330e+00, 3.89891467e+01],\n",
       "       [8.17846185e+02, 5.19288286e+02],\n",
       "       [4.16780319e+02, 1.36504943e+02],\n",
       "       [2.20925575e+02, 7.16788933e+01],\n",
       "       [4.61744898e+01, 9.42256913e+01],\n",
       "       [1.02055590e+02, 5.48432768e+00],\n",
       "       [9.89252305e+01, 2.16138821e-01],\n",
       "       [7.98602123e+02, 5.01681659e+02],\n",
       "       [3.33685906e+02, 2.04216290e+02],\n",
       "       [3.29030446e+00, 1.88177211e+02],\n",
       "       [5.29148248e+02, 1.16656313e+02],\n",
       "       [5.84115564e+02, 1.50257795e+02],\n",
       "       [8.40149471e+00, 3.82279862e+00],\n",
       "       [8.36420303e+02, 1.85484231e+02],\n",
       "       [7.88624019e+00, 1.15882695e+01],\n",
       "       [4.82730951e+02, 6.04605857e+02],\n",
       "       [4.80065978e+01, 1.63962564e+01],\n",
       "       [1.08819443e+02, 3.57597879e+02],\n",
       "       [1.55486872e+01, 1.38684762e+02],\n",
       "       [4.06051660e+02, 2.18011592e+02],\n",
       "       [2.72160930e+01, 2.77937656e+02],\n",
       "       [3.89457568e+02, 1.87543867e+02],\n",
       "       [2.74901334e+01, 1.68267055e+01],\n",
       "       [8.50762645e-01, 3.25101171e+01],\n",
       "       [2.48040278e+01, 4.82075207e+01],\n",
       "       [5.56659589e+02, 2.62695869e+01],\n",
       "       [1.84011152e+02, 6.53368236e+01],\n",
       "       [9.36368160e+01, 5.17090309e+01],\n",
       "       [6.68806275e+02, 3.45083115e+02],\n",
       "       [4.74653164e+02, 5.90701772e+01],\n",
       "       [2.65406888e+02, 2.24511337e+02],\n",
       "       [1.31245404e+02, 2.27347935e+02],\n",
       "       [9.92416300e+01, 2.92758628e+00],\n",
       "       [7.89100491e+01, 2.38562842e+02],\n",
       "       [1.94029943e+01, 7.46011359e+01],\n",
       "       [5.31231042e+01, 8.48671320e+01],\n",
       "       [3.72765407e+02, 1.18031355e-01],\n",
       "       [1.25631990e+02, 1.39828380e-01],\n",
       "       [4.40131206e+02, 7.05789998e+00],\n",
       "       [4.74951573e+02, 1.56829362e+02],\n",
       "       [1.03006132e+02, 9.89275603e+01],\n",
       "       [5.34490470e+02, 7.27095621e+01],\n",
       "       [1.51935715e+00, 1.64305342e-01],\n",
       "       [2.48969008e+01, 7.73669857e+01],\n",
       "       [1.32181594e+01, 7.82410697e+01],\n",
       "       [3.87429826e+01, 1.51863927e+02],\n",
       "       [5.01976496e+02, 1.30792666e+02],\n",
       "       [1.63002920e+02, 7.35353042e+01],\n",
       "       [2.09495488e+00, 1.07724903e+01],\n",
       "       [2.79382609e+01, 4.70002930e+01],\n",
       "       [3.42859981e+02, 1.11543072e+02],\n",
       "       [4.39465960e-01, 1.20015456e+02],\n",
       "       [7.99909236e-02, 1.35153736e+02],\n",
       "       [4.64293384e+01, 1.38671802e+02],\n",
       "       [8.78174177e+01, 9.44469320e+00],\n",
       "       [1.70345392e+02, 3.49782028e+01],\n",
       "       [1.69379806e+02, 2.85516622e+02],\n",
       "       [2.37197701e+01, 2.08585211e+02],\n",
       "       [7.32835850e+02, 1.20545997e+02],\n",
       "       [5.37039707e+02, 1.95648687e+02],\n",
       "       [2.77077416e+01, 3.52608964e+01],\n",
       "       [6.31093649e+02, 3.74313156e+02],\n",
       "       [3.23417544e+02, 4.38178962e+02],\n",
       "       [1.66522155e+02, 6.12866217e+01],\n",
       "       [7.43845975e+01, 1.97992475e+00],\n",
       "       [5.13744763e+00, 7.72374994e+01],\n",
       "       [4.21187338e+02, 3.34457531e+02],\n",
       "       [1.61016995e+02, 7.28508993e+01],\n",
       "       [4.06505306e+01, 2.05289832e+01],\n",
       "       [2.25180077e+02, 1.29173511e+01],\n",
       "       [3.86717362e+00, 2.79340832e+00],\n",
       "       [4.60560414e+02, 1.12908404e+02],\n",
       "       [4.87721620e+02, 1.19006159e+02],\n",
       "       [2.19359754e+02, 8.06641207e+01],\n",
       "       [3.85757706e+02, 2.21728405e+01],\n",
       "       [1.49521992e+02, 9.66947445e+00],\n",
       "       [4.23964801e+02, 3.93984228e+02],\n",
       "       [2.55492900e+02, 2.75772021e+02],\n",
       "       [5.76953327e-01, 7.73093682e+01],\n",
       "       [1.76614052e-02, 2.44841938e+02],\n",
       "       [4.22354454e+00, 1.34175289e+02],\n",
       "       [1.29285661e+02, 5.08854009e-01],\n",
       "       [5.28985387e+02, 7.64599167e+01],\n",
       "       [3.21532760e+02, 3.30831736e+02],\n",
       "       [3.26916770e+00, 3.02359685e+01],\n",
       "       [1.51062668e+01, 1.87322994e+02],\n",
       "       [9.93927769e+02, 3.54775466e+02],\n",
       "       [3.16519317e+02, 6.02684453e+01],\n",
       "       [2.33833227e+00, 1.77745223e+01],\n",
       "       [3.88684174e+01, 2.93493311e-01],\n",
       "       [5.46786378e+02, 1.94244982e+02],\n",
       "       [1.08186334e+02, 3.74980415e+01],\n",
       "       [6.46744921e+02, 1.49609717e+02],\n",
       "       [3.70281859e+02, 2.78298284e+02],\n",
       "       [1.73846346e+02, 9.72653117e+01],\n",
       "       [1.76281277e-01, 4.57162219e-01],\n",
       "       [1.99156037e+02, 1.58079893e+00],\n",
       "       [3.32213105e+02, 8.45511918e+00],\n",
       "       [8.02117680e+01, 3.18446971e+02],\n",
       "       [3.54092787e+02, 3.97996698e+02],\n",
       "       [3.39926356e-01, 2.69087442e+01],\n",
       "       [2.75559826e+02, 4.43927073e+02],\n",
       "       [1.64439989e+02, 1.50213520e+01],\n",
       "       [5.79711056e+02, 5.23563434e+02],\n",
       "       [7.02041346e+01, 2.23885003e-06],\n",
       "       [8.75549708e+01, 2.83259853e+02],\n",
       "       [6.02012224e+02, 2.07723733e+02],\n",
       "       [3.74417462e+02, 8.11820411e+01],\n",
       "       [3.90696637e+02, 4.21908355e+02],\n",
       "       [1.21065257e+02, 1.59656782e+02],\n",
       "       [1.73016381e+02, 6.98042849e+01],\n",
       "       [5.38634871e+02, 9.09764426e+01],\n",
       "       [3.97891028e+00, 4.74850661e+01],\n",
       "       [9.57844608e+00, 1.32021243e+00],\n",
       "       [4.57138664e+02, 3.51117277e+02],\n",
       "       [7.17774378e+01, 1.07347877e+02],\n",
       "       [1.47308509e+01, 2.16418761e+02],\n",
       "       [1.32787192e+02, 6.14630497e+01],\n",
       "       [5.48645473e+02, 1.20083355e+02],\n",
       "       [3.31523530e+02, 4.66102605e+02],\n",
       "       [4.35519235e+02, 9.21721813e+00],\n",
       "       [1.86212535e+02, 1.22159727e+02],\n",
       "       [2.73091438e+02, 8.11662829e+01],\n",
       "       [1.66342700e+02, 5.17806292e+01],\n",
       "       [6.16953381e-03, 1.75720697e+02],\n",
       "       [1.44582426e+02, 1.41785367e+02],\n",
       "       [1.43991396e+02, 3.42793644e+02],\n",
       "       [5.60425353e+02, 1.11120042e+02],\n",
       "       [2.21722957e+02, 1.15366327e+01],\n",
       "       [1.82526178e+01, 1.13868802e+01],\n",
       "       [9.80847346e+02, 2.23794231e+02],\n",
       "       [4.28119572e+00, 2.49685462e+02],\n",
       "       [4.49870519e+01, 4.34098195e+00],\n",
       "       [2.16902988e+02, 1.27866311e+02],\n",
       "       [4.77071469e+02, 2.73840725e+02],\n",
       "       [1.02915865e+03, 3.63647674e+02],\n",
       "       [5.79879149e+02, 1.39406778e+02],\n",
       "       [3.46474049e+01, 1.94430948e+02],\n",
       "       [5.75640121e+02, 3.02940247e+02],\n",
       "       [1.25712105e+02, 3.11211412e+01],\n",
       "       [2.65023241e+02, 1.79635567e+02],\n",
       "       [1.34374810e+01, 7.92882231e+01],\n",
       "       [4.14449053e+02, 6.82338304e+01],\n",
       "       [1.37828219e+02, 2.34707396e+02],\n",
       "       [7.03011362e-01, 9.03745571e+01],\n",
       "       [7.28600376e+01, 7.90406901e+00],\n",
       "       [2.87026426e+01, 4.31090165e+00],\n",
       "       [1.30686573e+00, 3.05082506e+02],\n",
       "       [5.17375578e+01, 1.35024869e+02],\n",
       "       [1.88580770e+02, 2.62265761e+02],\n",
       "       [4.30588665e+02, 6.05065557e+02],\n",
       "       [9.69115228e+01, 2.68017322e-02],\n",
       "       [1.76728268e-02, 4.63710244e+01],\n",
       "       [3.27822469e+00, 2.19592799e+02],\n",
       "       [9.29232982e+01, 3.74949990e+01],\n",
       "       [1.25547939e+02, 1.81423188e+02],\n",
       "       [5.23213253e-01, 2.32675293e+02],\n",
       "       [1.17301704e+02, 4.32683508e+01],\n",
       "       [5.41867101e+01, 4.96944388e+01],\n",
       "       [1.93655142e+01, 3.95164464e+01],\n",
       "       [2.27931826e+02, 1.01529484e+02],\n",
       "       [1.90167019e+00, 1.09905582e+01],\n",
       "       [2.55148442e+02, 7.00400744e+00],\n",
       "       [7.51060270e+01, 3.83722636e+01],\n",
       "       [9.60886425e+02, 2.84104985e+02],\n",
       "       [3.60735532e+02, 2.72480462e+00],\n",
       "       [4.78229748e+00, 7.77919789e+01],\n",
       "       [3.70754697e+01, 5.64599115e+01],\n",
       "       [9.04530974e+02, 3.66567951e+02],\n",
       "       [2.70615090e+01, 2.06496247e+02],\n",
       "       [4.84780264e+01, 2.21221404e+02],\n",
       "       [5.52986932e-01, 4.51096942e+01],\n",
       "       [6.62871219e+02, 2.56599860e+02],\n",
       "       [1.01542167e+03, 4.78563220e+02],\n",
       "       [8.95700287e+02, 3.78760038e+02],\n",
       "       [3.67011640e+02, 2.17864118e+02],\n",
       "       [6.37997007e+01, 2.99984348e+02],\n",
       "       [1.38327576e-02, 7.86754198e-01],\n",
       "       [1.36959583e+02, 3.43983576e+02],\n",
       "       [6.07500579e+02, 4.37909583e+02],\n",
       "       [3.23915311e+02, 1.73787826e+02],\n",
       "       [1.64542145e+02, 3.08054470e+02],\n",
       "       [1.69639483e+02, 9.60937828e+01],\n",
       "       [2.18305799e+00, 1.54461223e+02],\n",
       "       [4.04269945e+02, 7.71988301e-01],\n",
       "       [2.89739206e+02, 2.69031239e+01],\n",
       "       [3.20493471e+02, 4.25746825e+02],\n",
       "       [1.50770009e+02, 2.16500003e+00],\n",
       "       [1.72637601e+01, 9.75719948e-01],\n",
       "       [2.27935553e+01, 4.78988900e+00],\n",
       "       [1.02365377e+02, 2.98696644e+01],\n",
       "       [2.91178079e+02, 3.75856217e+01],\n",
       "       [2.59857775e+02, 1.78137659e+02],\n",
       "       [5.32425490e+01, 1.44312439e+02],\n",
       "       [1.01951122e+03, 4.70678503e+02],\n",
       "       [3.09019341e+01, 2.93761641e+02],\n",
       "       [8.10035011e+02, 3.23601343e+02],\n",
       "       [4.59353925e+01, 1.67944502e+01],\n",
       "       [1.31956804e+01, 4.41492376e+02],\n",
       "       [3.60635612e+00, 2.08013401e+02],\n",
       "       [1.31622364e+02, 2.21694232e+01],\n",
       "       [2.20331092e+01, 2.28710738e+02],\n",
       "       [3.71816218e+02, 2.11516268e+02],\n",
       "       [2.70508559e+02, 3.57306744e+01],\n",
       "       [5.05841034e+01, 2.02471616e+02],\n",
       "       [1.04100047e+03, 4.20589490e+02],\n",
       "       [1.88204204e+02, 3.26983558e+02],\n",
       "       [1.14754418e+02, 1.96202318e+00],\n",
       "       [6.82146194e-01, 1.82344287e+02],\n",
       "       [5.60776158e+02, 3.76653425e+02],\n",
       "       [4.83181089e+01, 2.13219227e+02],\n",
       "       [3.07476450e+02, 1.55851697e+01],\n",
       "       [1.73654203e+01, 1.85221518e+01],\n",
       "       [5.53329468e+01, 9.63000088e-02],\n",
       "       [3.60887761e+01, 8.87604380e+01],\n",
       "       [5.63882453e+02, 6.26400907e+02],\n",
       "       [7.12363922e+02, 1.76425085e+02],\n",
       "       [2.13393266e+01, 6.33799475e+00],\n",
       "       [3.80730879e+02, 4.85050984e+02],\n",
       "       [3.01577369e+02, 1.54337233e+02],\n",
       "       [7.46850868e+02, 4.18440135e+02],\n",
       "       [8.45498942e+01, 1.17458908e+02],\n",
       "       [5.84974423e+01, 3.37780875e+02],\n",
       "       [9.90299386e+01, 7.33325802e+01],\n",
       "       [8.41250912e+01, 2.75459679e+01],\n",
       "       [1.29414967e+02, 9.01897383e+01],\n",
       "       [5.68948036e+01, 6.96855826e+01],\n",
       "       [1.55548472e+01, 1.82617325e+01],\n",
       "       [3.39595907e+02, 3.85005954e+01],\n",
       "       [5.48709728e+02, 6.11564232e+02],\n",
       "       [7.23122080e+02, 3.05528537e+02],\n",
       "       [3.33891573e+02, 1.46719367e+02],\n",
       "       [6.63726491e+01, 5.29405622e-01],\n",
       "       [2.39124785e+02, 2.04916054e+02],\n",
       "       [2.67331435e+02, 1.50982284e+02],\n",
       "       [2.87470499e+02, 3.16136069e-03],\n",
       "       [2.55290848e+01, 8.77668578e-02],\n",
       "       [1.32269707e-02, 1.36740994e+02],\n",
       "       [3.67935114e-03, 3.69437016e+02],\n",
       "       [1.29073971e+02, 2.95203161e+02],\n",
       "       [1.59650627e+02, 1.21059893e+02],\n",
       "       [2.15055739e+01, 2.42303007e+01],\n",
       "       [5.12366510e+02, 4.80669323e+02],\n",
       "       [2.84927597e+01, 8.00599497e+01],\n",
       "       [4.84424875e+02, 2.20099091e+02],\n",
       "       [6.65454626e+01, 1.21368311e+02],\n",
       "       [5.13000716e+01, 2.21845072e+01],\n",
       "       [8.33638137e+02, 2.65556142e+02],\n",
       "       [5.23633971e+01, 3.47136433e-02],\n",
       "       [3.36030751e+02, 6.17350428e+01],\n",
       "       [7.85223741e+02, 2.64015847e+02],\n",
       "       [1.29779622e+02, 5.40650857e+01],\n",
       "       [9.05973261e+01, 8.71458809e+01],\n",
       "       [7.05728260e+01, 1.15735045e+01],\n",
       "       [1.44708868e+02, 3.76523972e+02],\n",
       "       [4.29553980e+02, 1.20084441e+02],\n",
       "       [6.09718625e+02, 3.00113247e+02],\n",
       "       [1.16252093e+02, 2.69312523e+01],\n",
       "       [2.87883681e+02, 9.95712845e+00]])"
      ]
     },
     "execution_count": 248,
     "metadata": {},
     "output_type": "execute_result"
    }
   ],
   "source": [
    "(kmeans.cluster_centers_[0] - pca_pred.iloc[:,:2].values)**2"
   ]
  },
  {
   "cell_type": "code",
   "execution_count": 249,
   "metadata": {},
   "outputs": [
    {
     "data": {
      "text/plain": [
       "array([4.24089063e+02, 9.42200392e+02, 1.66168538e+01, 3.38578484e+02,\n",
       "       1.58764077e+02, 2.71921517e+02, 2.48644705e+02, 5.33833529e+01,\n",
       "       2.71188161e+01, 3.58917172e+02, 1.82319330e+01, 1.33581747e+02,\n",
       "       1.48929767e+02, 1.75499805e+01, 9.78430400e+01, 2.19306121e+02,\n",
       "       2.54104035e+02, 1.53515924e+01, 3.23486313e+02, 1.24969513e+02,\n",
       "       6.30803571e+02, 8.37247058e+02, 3.01593286e+02, 6.92091001e+02,\n",
       "       9.46063548e+01, 9.65082575e+01, 5.07576294e+01, 2.99584687e+02,\n",
       "       5.44064182e+01, 4.62196991e+02, 3.18619441e+02, 3.95974983e+01,\n",
       "       8.08101985e+02, 1.30298802e+02, 1.82610637e+02, 4.05143443e+02,\n",
       "       2.32061276e+02, 1.54920461e+02, 6.65441357e+02, 1.21077189e+03,\n",
       "       1.39249671e+02, 3.38180150e+02, 3.18120151e+02, 1.02091214e+02,\n",
       "       5.22700824e+02, 1.29788745e+02, 4.27484847e+02, 6.50043689e+02,\n",
       "       5.27975427e+02, 6.12341681e+02, 6.72427368e+01, 1.74513528e+02,\n",
       "       1.76385270e+02, 1.43851445e+01, 2.35591938e+02, 1.36449815e+01,\n",
       "       5.42539765e+02, 4.18356141e+02, 8.91513951e+02, 5.65036158e+02,\n",
       "       6.06246452e+01, 1.17402813e+02, 4.06447930e+02, 8.35745258e+01,\n",
       "       4.78038028e+02, 1.01791819e+01, 4.84997804e+02, 6.65308850e+01,\n",
       "       3.74041445e+02, 6.36011289e+01, 1.48565613e+01, 2.85060194e+02,\n",
       "       1.91438145e+02, 1.39786996e+02, 3.90077521e+02, 7.00787108e+02,\n",
       "       3.65387196e+02, 1.06540642e+03, 5.62863352e+02, 4.65387737e+00,\n",
       "       2.30206792e+01, 1.11878199e+03, 3.79184518e+02, 1.21354584e+02,\n",
       "       6.22699197e+02, 8.01806621e+02, 5.38809193e+01, 4.83765031e+01,\n",
       "       2.94056671e+02, 2.90102454e+02, 4.59971109e+01, 1.87265509e+02,\n",
       "       9.39412495e+02, 8.33310525e+02, 2.54044909e+01, 9.42662590e+02,\n",
       "       3.34163034e+02, 9.83710956e+01, 2.00360772e+02, 3.83449812e+02,\n",
       "       2.39208466e+02, 7.86463379e+02, 7.17291054e+00, 2.47488455e+02,\n",
       "       4.85199641e+02, 1.60119793e+01, 7.25566824e+02, 1.15840471e+02,\n",
       "       6.96076743e+00, 5.19157345e+01, 3.09316379e+02, 9.80157890e+00,\n",
       "       2.07084793e+02, 5.64747146e+02, 1.14274338e+03, 9.86250685e+02,\n",
       "       6.81256705e+01, 6.64222658e+02, 9.18469358e+01, 2.81948559e+02,\n",
       "       3.11573417e+02, 1.17254599e+03, 2.68415849e+02, 3.26445645e+02,\n",
       "       1.20079905e+03, 7.37740799e+02, 4.30330474e+02, 3.98224474e+02,\n",
       "       1.25660474e+02, 9.48861238e+00, 5.58290825e+02, 4.65767309e+01,\n",
       "       1.47382283e+01, 1.23643936e+03, 1.72275008e+02, 7.73276581e+01,\n",
       "       1.12520311e+03, 7.20457618e+01, 6.76412966e+01, 4.22226169e+02,\n",
       "       3.13596152e+01, 1.10345235e+02, 5.09427501e+02, 1.00927985e+03,\n",
       "       1.23514677e+03, 3.06960276e+02, 6.92696880e+01, 2.46988295e+02,\n",
       "       4.06049411e+02, 7.68101742e+01, 6.04812597e+01, 1.35335161e+02,\n",
       "       1.13985500e+03, 3.05033853e+02, 2.61961394e+02, 4.94362565e+02,\n",
       "       3.36129153e+02, 5.03535052e+02, 6.20745209e+01, 3.85841994e+02,\n",
       "       7.88603683e+01, 9.03171089e+02, 3.02603730e+02, 2.05790277e+02,\n",
       "       7.84386434e+01, 6.52164664e+02, 3.60311880e+02, 1.41201196e+02,\n",
       "       5.98947620e+02, 7.81543003e+02, 8.66429325e+01, 1.88045639e+02,\n",
       "       8.26582278e+01, 1.01222042e+02, 4.82673733e+02, 1.31603919e+02,\n",
       "       1.27870219e+02, 4.94730970e+02, 1.60470009e+02, 1.79764119e+02,\n",
       "       1.09239895e+03, 5.51272451e+02, 8.12316334e+01, 1.57587549e+02,\n",
       "       1.25442196e+03, 4.67461856e+02, 7.85356331e+01, 5.46387801e+02,\n",
       "       9.74516474e+02, 1.63504078e+02, 2.69118450e+00, 7.24952360e+02,\n",
       "       3.38759137e+02, 8.88576981e+02, 7.42913356e+02, 7.13380471e+01,\n",
       "       5.50754967e+02, 9.17115112e+02, 2.25886142e+02, 3.63747955e+02,\n",
       "       1.58338632e+01, 4.60118600e+01, 1.33713447e+03, 5.53285262e+02,\n",
       "       2.92604468e+02, 1.40400181e+02, 1.07539918e+02, 9.91413693e+01,\n",
       "       1.30028378e+03, 5.37902196e+02, 1.91467515e+02, 6.45804562e+02,\n",
       "       7.34373359e+02, 1.22242933e+01, 1.02190453e+03, 1.94745097e+01,\n",
       "       1.08733681e+03, 6.44028542e+01, 4.66417322e+02, 1.54233450e+02,\n",
       "       6.24063251e+02, 3.05153749e+02, 5.77001435e+02, 4.43168389e+01,\n",
       "       3.33608797e+01, 7.30115486e+01, 5.82929176e+02, 2.49347975e+02,\n",
       "       1.45345847e+02, 1.01388939e+03, 5.33723342e+02, 4.89918225e+02,\n",
       "       3.58593339e+02, 1.02169216e+02, 3.17472891e+02, 9.40041301e+01,\n",
       "       1.37990236e+02, 3.72883438e+02, 1.25771819e+02, 4.47189106e+02,\n",
       "       6.31780935e+02, 2.01933692e+02, 6.07200032e+02, 1.68366249e+00,\n",
       "       1.02263886e+02, 9.14592292e+01, 1.90606909e+02, 6.32769162e+02,\n",
       "       2.36538224e+02, 1.28674452e+01, 7.49385539e+01, 4.54403053e+02,\n",
       "       1.20454922e+02, 1.35233727e+02, 1.85101141e+02, 9.72621109e+01,\n",
       "       2.05323595e+02, 4.54896427e+02, 2.32304982e+02, 8.53381847e+02,\n",
       "       7.32688394e+02, 6.29686380e+01, 1.00540681e+03, 7.61596506e+02,\n",
       "       2.27808777e+02, 7.63645223e+01, 8.23749471e+01, 7.55644869e+02,\n",
       "       2.33867894e+02, 6.11795138e+01, 2.38097428e+02, 6.66058194e+00,\n",
       "       5.73468818e+02, 6.06727779e+02, 3.00023874e+02, 4.07930546e+02,\n",
       "       1.59191466e+02, 8.17949029e+02, 5.31264921e+02, 7.78863216e+01,\n",
       "       2.44859600e+02, 1.38398834e+02, 1.29794515e+02, 6.05445304e+02,\n",
       "       6.52364497e+02, 3.35051362e+01, 2.02429260e+02, 1.34870324e+03,\n",
       "       3.76787763e+02, 2.01128546e+01, 3.91619107e+01, 7.41031360e+02,\n",
       "       1.45684376e+02, 7.96354638e+02, 6.48580143e+02, 2.71111658e+02,\n",
       "       6.33443496e-01, 2.00736836e+02, 3.40668224e+02, 3.98658739e+02,\n",
       "       7.52089484e+02, 2.72486706e+01, 7.19486898e+02, 1.79461341e+02,\n",
       "       1.10327449e+03, 7.02041369e+01, 3.70814824e+02, 8.09735957e+02,\n",
       "       4.55599503e+02, 8.12604992e+02, 2.80722039e+02, 2.42820666e+02,\n",
       "       6.29611313e+02, 5.14639763e+01, 1.08986585e+01, 8.08255941e+02,\n",
       "       1.79125315e+02, 2.31149612e+02, 1.94250242e+02, 6.68728828e+02,\n",
       "       7.97626134e+02, 4.44736453e+02, 3.08372262e+02, 3.54257721e+02,\n",
       "       2.18123330e+02, 1.75726867e+02, 2.86367793e+02, 4.86785041e+02,\n",
       "       6.71545395e+02, 2.33259589e+02, 2.96394980e+01, 1.20464158e+03,\n",
       "       2.53966658e+02, 4.93280339e+01, 3.44769299e+02, 7.50912194e+02,\n",
       "       1.39280632e+03, 7.19285926e+02, 2.29078353e+02, 8.78580368e+02,\n",
       "       1.56833246e+02, 4.44658808e+02, 9.27257041e+01, 4.82682883e+02,\n",
       "       3.72535615e+02, 9.10775684e+01, 8.07641066e+01, 3.30135442e+01,\n",
       "       3.06389372e+02, 1.86762427e+02, 4.50846531e+02, 1.03565422e+03,\n",
       "       9.69383245e+01, 4.63886972e+01, 2.22871024e+02, 1.30418297e+02,\n",
       "       3.06971127e+02, 2.33198506e+02, 1.60570055e+02, 1.03881149e+02,\n",
       "       5.88819605e+01, 3.29461310e+02, 1.28922284e+01, 2.62152449e+02,\n",
       "       1.13478291e+02, 1.24499141e+03, 3.63460336e+02, 8.25742764e+01,\n",
       "       9.35353811e+01, 1.27109892e+03, 2.33557756e+02, 2.69699430e+02,\n",
       "       4.56626811e+01, 9.19471079e+02, 1.49398489e+03, 1.27446032e+03,\n",
       "       5.84875758e+02, 3.63784049e+02, 8.00586956e-01, 4.80943159e+02,\n",
       "       1.04541016e+03, 4.97703137e+02, 4.72596615e+02, 2.65733266e+02,\n",
       "       1.56644281e+02, 4.05041933e+02, 3.16642330e+02, 7.46240296e+02,\n",
       "       1.52935009e+02, 1.82394800e+01, 2.75834443e+01, 1.32235042e+02,\n",
       "       3.28763701e+02, 4.37995434e+02, 1.97554988e+02, 1.49018973e+03,\n",
       "       3.24663575e+02, 1.13363635e+03, 6.27298428e+01, 4.54688057e+02,\n",
       "       2.11619757e+02, 1.53791788e+02, 2.50743847e+02, 5.83332485e+02,\n",
       "       3.06239234e+02, 2.53055720e+02, 1.46158996e+03, 5.15187762e+02,\n",
       "       1.16716441e+02, 1.83026434e+02, 9.37429583e+02, 2.61537336e+02,\n",
       "       3.23061620e+02, 3.58875721e+01, 5.54292469e+01, 1.24849214e+02,\n",
       "       1.19028336e+03, 8.88789007e+02, 2.76773214e+01, 8.65781863e+02,\n",
       "       4.55914603e+02, 1.16529100e+03, 2.02008802e+02, 3.96278317e+02,\n",
       "       1.72362519e+02, 1.11671059e+02, 2.19604705e+02, 1.26580386e+02,\n",
       "       3.38165796e+01, 3.78096502e+02, 1.16027396e+03, 1.02865062e+03,\n",
       "       4.80610941e+02, 6.69020548e+01, 4.44040839e+02, 4.18313718e+02,\n",
       "       2.87473661e+02, 2.56168517e+01, 1.36754221e+02, 3.69440695e+02,\n",
       "       4.24277133e+02, 2.80710520e+02, 4.57358746e+01, 9.93035834e+02,\n",
       "       1.08552709e+02, 7.04523966e+02, 1.87913773e+02, 7.34845788e+01,\n",
       "       1.09919428e+03, 5.23981108e+01, 3.97765794e+02, 1.04923959e+03,\n",
       "       1.83844708e+02, 1.77743207e+02, 8.21463305e+01, 5.21232840e+02,\n",
       "       5.49638422e+02, 9.09831872e+02, 1.43183345e+02, 2.97840810e+02])"
      ]
     },
     "execution_count": 249,
     "metadata": {},
     "output_type": "execute_result"
    }
   ],
   "source": [
    "np.sum((kmeans.cluster_centers_[0] - pca_pred.iloc[:,:2].values)**2,axis=1)"
   ]
  },
  {
   "cell_type": "code",
   "execution_count": 250,
   "metadata": {},
   "outputs": [
    {
     "data": {
      "text/plain": [
       "array([[ -9.60709126, -12.00079649],\n",
       "       [ 21.82140653,  15.18897102],\n",
       "       [ -3.57194232,   0.51393755]])"
      ]
     },
     "execution_count": 250,
     "metadata": {},
     "output_type": "execute_result"
    }
   ],
   "source": [
    "scaler.inverse_transform(kmeans.cluster_centers_)"
   ]
  },
  {
   "cell_type": "code",
   "execution_count": 251,
   "metadata": {},
   "outputs": [
    {
     "data": {
      "text/plain": [
       "array([[-0.71806822, -0.98288032],\n",
       "       [ 1.35139429,  1.2824929 ],\n",
       "       [-0.32067364,  0.05981132]])"
      ]
     },
     "execution_count": 251,
     "metadata": {},
     "output_type": "execute_result"
    }
   ],
   "source": [
    "kmeans.cluster_centers_"
   ]
  },
  {
   "cell_type": "code",
   "execution_count": 252,
   "metadata": {},
   "outputs": [],
   "source": [
    "arg0 = np.argmin(np.sum((scaler.inverse_transform(kmeans.cluster_centers_)[0] - pca_pred.iloc[:,:2].values)**2, axis=1 ))\n",
    "arg1 = np.argmin(np.sum((scaler.inverse_transform(kmeans.cluster_centers_)[1] - pca_pred.iloc[:,:2].values)**2, axis=1 ))\n",
    "arg2 = np.argmin(np.sum((scaler.inverse_transform(kmeans.cluster_centers_)[2] - pca_pred.iloc[:,:2].values)**2, axis=1 ))"
   ]
  },
  {
   "cell_type": "code",
   "execution_count": 253,
   "metadata": {},
   "outputs": [
    {
     "data": {
      "text/plain": [
       "422"
      ]
     },
     "execution_count": 253,
     "metadata": {},
     "output_type": "execute_result"
    }
   ],
   "source": [
    "arg0"
   ]
  },
  {
   "cell_type": "code",
   "execution_count": 254,
   "metadata": {},
   "outputs": [],
   "source": [
    "pca_pred.loc[arg0,'clust'] = 'red'\n",
    "pca_pred.loc[arg1,'clust'] = 'red'\n",
    "pca_pred.loc[arg2,'clust'] = 'red'\n",
    "pca_pred.loc[arg0,'size'] =  120 \n",
    "pca_pred.loc[arg1,'size'] =  120\n",
    "pca_pred.loc[arg2,'size'] =  120"
   ]
  },
  {
   "cell_type": "code",
   "execution_count": 255,
   "metadata": {},
   "outputs": [
    {
     "data": {
      "image/png": "[encoded data removed]",
      "text/plain": [
       "<Figure size 1440x720 with 1 Axes>"
      ]
     },
     "metadata": {},
     "output_type": "display_data"
    }
   ],
   "source": [
    "plt.figure(figsize=(20,10))\n",
    "for marker in [\"<\",\"+\"]:\n",
    "    if marker == \"+\":\n",
    "        shape = 'Man'\n",
    "    else:\n",
    "        shape = 'Woman'\n",
    "    \n",
    "    df_to_plot = pca_pred[pca_pred['women'] == marker]\n",
    "    plt.scatter(df_to_plot[0],\n",
    "            df_to_plot[1], \n",
    "            c = df_to_plot['clust'], \n",
    "            alpha = 0.8, \n",
    "            s = df_to_plot['size'], \n",
    "            marker=marker,\n",
    "            label=shape)\n",
    "\n",
    "plt.xlabel('X1')\n",
    "plt.ylabel('X2')\n",
    "plt.legend(numpoints=1)\n",
    "plt.title(\"t-SNE transformation\")\n",
    "plt.show()"
   ]
  },
  {
   "cell_type": "code",
   "execution_count": 259,
   "metadata": {},
   "outputs": [
    {
     "data": {
      "text/plain": [
       "('Robert Tyszkiewicz', 'Anna Elżbieta Sobecka', 'Tadeusz Woźniak')"
      ]
     },
     "execution_count": 259,
     "metadata": {},
     "output_type": "execute_result"
    }
   ],
   "source": [
    "all[arg0].name, all[arg1].name, all[arg2].name"
   ]
  },
  {
   "cell_type": "code",
   "execution_count": null,
   "metadata": {},
   "outputs": [],
   "source": []
  }
 ],
 "metadata": {
  "kernelspec": {
   "display_name": "Python 3",
   "language": "python",
   "name": "python3"
  },
  "language_info": {
   "codemirror_mode": {
    "name": "ipython",
    "version": 3
   },
   "file_extension": ".py",
   "mimetype": "text/x-python",
   "name": "python",
   "nbconvert_exporter": "python",
   "pygments_lexer": "ipython3",
   "version": "3.6.4"
  }
 },
 "nbformat": 4,
 "nbformat_minor": 2
}
