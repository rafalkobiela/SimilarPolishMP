{
 "cells": [
  {
   "cell_type": "code",
   "execution_count": 19,
   "metadata": {},
   "outputs": [],
   "source": [
    "from database import Database\n",
    "from file_utils import *\n",
    "from models import Member\n",
    "import pickle\n",
    "import numpy as np\n",
    "\n",
    "members = Database().members_table()\n",
    "\n",
    "with open(\"people.pkl\", 'rb') as file:\n",
    "    all = pickle.load(file)"
   ]
  },
  {
   "cell_type": "code",
   "execution_count": 52,
   "metadata": {},
   "outputs": [],
   "source": [
    "import pandas as pd"
   ]
  },
  {
   "cell_type": "code",
   "execution_count": 12,
   "metadata": {},
   "outputs": [],
   "source": [
    "a = all[0]"
   ]
  },
  {
   "cell_type": "code",
   "execution_count": 16,
   "metadata": {},
   "outputs": [
    {
     "data": {
      "text/plain": [
       "'Magdalena Błeńska'"
      ]
     },
     "execution_count": 16,
     "metadata": {},
     "output_type": "execute_result"
    }
   ],
   "source": [
    "a.name"
   ]
  },
  {
   "cell_type": "code",
   "execution_count": 14,
   "metadata": {},
   "outputs": [
    {
     "data": {
      "text/plain": [
       "array([ 0.05469247, -0.0665012 ,  0.04317334, -0.00495657, -0.04881677,\n",
       "        0.07858331, -0.03891452,  0.18982802, -0.19349381,  0.05374943,\n",
       "       -0.06896212,  0.02517324,  0.04573154,  0.02614803,  0.06619898,\n",
       "       -0.06148352,  0.1196926 , -0.07583418,  0.08648308,  0.00418662,\n",
       "        0.02058505, -0.04683811,  0.06486165,  0.03753199,  0.02355651,\n",
       "        0.05065452,  0.05755502, -0.10457614, -0.13381958, -0.07012915,\n",
       "       -0.01911015, -0.04911895,  0.02345225,  0.07288831, -0.09729207,\n",
       "       -0.01912116, -0.0860671 ,  0.08589752, -0.13509355, -0.00525633,\n",
       "       -0.0480726 , -0.01246819, -0.06158394,  0.05174482, -0.02741939,\n",
       "        0.08749153,  0.03240972, -0.11484692, -0.11341407,  0.01939058,\n",
       "        0.23576456,  0.01968047, -0.02157095, -0.01739761,  0.08634907,\n",
       "        0.00787343,  0.04091279,  0.01201597,  0.18262288, -0.10240593,\n",
       "        0.0570411 , -0.05083935, -0.13286135, -0.05200791,  0.0946802 ,\n",
       "       -0.14410555, -0.01899474,  0.1301259 , -0.00420268,  0.12986432,\n",
       "        0.01946285,  0.01885734, -0.06901577, -0.12276407, -0.04933837,\n",
       "        0.0717499 , -0.01854289,  0.06884106,  0.05910559,  0.1257461 ,\n",
       "       -0.2147873 , -0.13474354,  0.07165524, -0.05226522, -0.03031413,\n",
       "       -0.17027146,  0.12645851, -0.01144914,  0.05585413, -0.02236331,\n",
       "       -0.18031679, -0.01095594, -0.00131705,  0.02439788, -0.0694224 ,\n",
       "        0.06497055,  0.20531029, -0.01428935, -0.05807629, -0.04815174,\n",
       "       -0.01463863,  0.19335033, -0.02877856,  0.07556871, -0.10194393,\n",
       "       -0.11768024, -0.15683946, -0.0253583 , -0.03545926, -0.155003  ,\n",
       "       -0.00115013,  0.07558711, -0.08046562, -0.08104896,  0.10014907,\n",
       "        0.01152142, -0.05376427, -0.19307549, -0.00862412,  0.10052545,\n",
       "       -0.01016845,  0.01288384, -0.00435016, -0.02239493,  0.18262793,\n",
       "       -0.03673072,  0.13122115, -0.00216916])"
      ]
     },
     "execution_count": 14,
     "metadata": {},
     "output_type": "execute_result"
    }
   ],
   "source": [
    "a.representation"
   ]
  },
  {
   "cell_type": "code",
   "execution_count": 17,
   "metadata": {},
   "outputs": [
    {
     "data": {
      "text/plain": [
       "460"
      ]
     },
     "execution_count": 17,
     "metadata": {},
     "output_type": "execute_result"
    }
   ],
   "source": [
    "len(all)"
   ]
  },
  {
   "cell_type": "code",
   "execution_count": 22,
   "metadata": {},
   "outputs": [],
   "source": [
    "reps = [i.representation for i in all]"
   ]
  },
  {
   "cell_type": "code",
   "execution_count": 45,
   "metadata": {},
   "outputs": [],
   "source": [
    "avg_person = np.mean(reps, axis = 0)"
   ]
  },
  {
   "cell_type": "code",
   "execution_count": 47,
   "metadata": {},
   "outputs": [],
   "source": [
    "distances = [np.linalg.norm(avg_person-i) for i in reps]"
   ]
  },
  {
   "cell_type": "code",
   "execution_count": 48,
   "metadata": {},
   "outputs": [
    {
     "data": {
      "text/plain": [
       "0.7193356803138735"
      ]
     },
     "execution_count": 48,
     "metadata": {},
     "output_type": "execute_result"
    }
   ],
   "source": [
    "min(distances)"
   ]
  },
  {
   "cell_type": "code",
   "execution_count": 49,
   "metadata": {},
   "outputs": [
    {
     "data": {
      "text/plain": [
       "54"
      ]
     },
     "execution_count": 49,
     "metadata": {},
     "output_type": "execute_result"
    }
   ],
   "source": [
    "np.argmin(distances)"
   ]
  },
  {
   "cell_type": "code",
   "execution_count": 51,
   "metadata": {},
   "outputs": [
    {
     "data": {
      "text/plain": [
       "'Piotr Zgorzelski'"
      ]
     },
     "execution_count": 51,
     "metadata": {},
     "output_type": "execute_result"
    }
   ],
   "source": [
    "all[54].name"
   ]
  },
  {
   "cell_type": "code",
   "execution_count": 53,
   "metadata": {},
   "outputs": [],
   "source": [
    "df = pd.DataFrame(reps)"
   ]
  },
  {
   "cell_type": "code",
   "execution_count": 56,
   "metadata": {},
   "outputs": [
    {
     "data": {
      "text/plain": [
       "PCA(copy=True, iterated_power='auto', n_components=2, random_state=None,\n",
       "  svd_solver='auto', tol=0.0, whiten=False)"
      ]
     },
     "execution_count": 56,
     "metadata": {},
     "output_type": "execute_result"
    }
   ],
   "source": [
    "from sklearn.decomposition import PCA\n",
    "pca = PCA(n_components=2)\n",
    "\n",
    "pca.fit(df)"
   ]
  },
  {
   "cell_type": "code",
   "execution_count": 64,
   "metadata": {},
   "outputs": [],
   "source": [
    "pca_pred = pd.DataFrame(pca.transform(df))"
   ]
  },
  {
   "cell_type": "code",
   "execution_count": 67,
   "metadata": {},
   "outputs": [],
   "source": [
    "pca_pred['color'] = 0"
   ]
  },
  {
   "cell_type": "code",
   "execution_count": 69,
   "metadata": {},
   "outputs": [],
   "source": [
    "pca_pred.loc[54,'color'] = 1"
   ]
  },
  {
   "cell_type": "code",
   "execution_count": 70,
   "metadata": {},
   "outputs": [
    {
     "data": {
      "text/html": [
       "<div>\n",
       "<style scoped>\n",
       "    .dataframe tbody tr th:only-of-type {\n",
       "        vertical-align: middle;\n",
       "    }\n",
       "\n",
       "    .dataframe tbody tr th {\n",
       "        vertical-align: top;\n",
       "    }\n",
       "\n",
       "    .dataframe thead th {\n",
       "        text-align: right;\n",
       "    }\n",
       "</style>\n",
       "<table border=\"1\" class=\"dataframe\">\n",
       "  <thead>\n",
       "    <tr style=\"text-align: right;\">\n",
       "      <th></th>\n",
       "      <th>0</th>\n",
       "      <th>1</th>\n",
       "      <th>color</th>\n",
       "    </tr>\n",
       "  </thead>\n",
       "  <tbody>\n",
       "    <tr>\n",
       "      <th>0</th>\n",
       "      <td>0.387782</td>\n",
       "      <td>0.034364</td>\n",
       "      <td>0</td>\n",
       "    </tr>\n",
       "    <tr>\n",
       "      <th>1</th>\n",
       "      <td>0.720374</td>\n",
       "      <td>-0.061309</td>\n",
       "      <td>0</td>\n",
       "    </tr>\n",
       "    <tr>\n",
       "      <th>2</th>\n",
       "      <td>-0.020933</td>\n",
       "      <td>0.322987</td>\n",
       "      <td>0</td>\n",
       "    </tr>\n",
       "    <tr>\n",
       "      <th>3</th>\n",
       "      <td>0.057676</td>\n",
       "      <td>0.615303</td>\n",
       "      <td>0</td>\n",
       "    </tr>\n",
       "    <tr>\n",
       "      <th>4</th>\n",
       "      <td>-0.259910</td>\n",
       "      <td>-0.048447</td>\n",
       "      <td>0</td>\n",
       "    </tr>\n",
       "  </tbody>\n",
       "</table>\n",
       "</div>"
      ],
      "text/plain": [
       "          0         1  color\n",
       "0  0.387782  0.034364      0\n",
       "1  0.720374 -0.061309      0\n",
       "2 -0.020933  0.322987      0\n",
       "3  0.057676  0.615303      0\n",
       "4 -0.259910 -0.048447      0"
      ]
     },
     "execution_count": 70,
     "metadata": {},
     "output_type": "execute_result"
    }
   ],
   "source": [
    "pca_pred.head()"
   ]
  },
  {
   "cell_type": "code",
   "execution_count": 59,
   "metadata": {},
   "outputs": [],
   "source": [
    "import matplotlib.pyplot as plt"
   ]
  },
  {
   "cell_type": "code",
   "execution_count": 81,
   "metadata": {},
   "outputs": [
    {
     "data": {
      "text/plain": [
       "<matplotlib.collections.PathCollection at 0x7f4489739f28>"
      ]
     },
     "execution_count": 81,
     "metadata": {},
     "output_type": "execute_result"
    },
    {
     "data": {
      "image/png": "[encoded data removed]",
      "text/plain": [
       "<Figure size 432x288 with 1 Axes>"
      ]
     },
     "metadata": {},
     "output_type": "display_data"
    }
   ],
   "source": [
    "plt.scatter(pca_pred[0],pca_pred[1], c = pca_pred['color'])"
   ]
  },
  {
   "cell_type": "code",
   "execution_count": null,
   "metadata": {},
   "outputs": [],
   "source": []
  }
 ],
 "metadata": {
  "kernelspec": {
   "display_name": "Python 3",
   "language": "python",
   "name": "python3"
  },
  "language_info": {
   "codemirror_mode": {
    "name": "ipython",
    "version": 3
   },
   "file_extension": ".py",
   "mimetype": "text/x-python",
   "name": "python",
   "nbconvert_exporter": "python",
   "pygments_lexer": "ipython3",
   "version": "3.6.4"
  }
 },
 "nbformat": 4,
 "nbformat_minor": 2
}
